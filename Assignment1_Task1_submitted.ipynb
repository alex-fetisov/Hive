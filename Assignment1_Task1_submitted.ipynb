{
 "cells": [
  {
   "cell_type": "code",
   "execution_count": 1,
   "metadata": {},
   "outputs": [
    {
     "name": "stdout",
     "output_type": "stream",
     "text": [
      "Writing query.hql\n"
     ]
    }
   ],
   "source": [
    "%%writefile query.hql\n",
    "\n",
    "SET hive.exec.dynamic.partition.mode=nonstrict;\n",
    "SET hive.exec.max.dynamic.partitions=2000;\n",
    "SET hive.exec.max.dynamic.partitions.pernode=1000;\n",
    "\n",
    "USE stackoverflow_;\n",
    "\n",
    "DROP TABLE if exists posts_sample_external; \n",
    "\n",
    "CREATE EXTERNAL TABLE posts_sample_external \n",
    "(row_id string,\n",
    "post_type_id string,\n",
    "year string,\n",
    "month string)\n",
    "ROW FORMAT \n",
    "SERDE 'org.apache.hadoop.hive.serde2.RegexSerDe' \n",
    "WITH SERDEPROPERTIES (\n",
    "    \"input.regex\" = \".*?(?=.*\\\\bId=\\\"(\\\\d+)\\\")(?=.*\\\\bPostTypeId=\\\"(\\\\d+)\\\")(?=.*\\\\bCreationDate=\\\"(\\\\d+)-(\\\\d+)).*\"\n",
    ")\n",
    "LOCATION '/data/stackexchange1000/posts';"
   ]
  },
  {
   "cell_type": "code",
   "execution_count": 2,
   "metadata": {},
   "outputs": [
    {
     "name": "stdout",
     "output_type": "stream",
     "text": [
      "Appending to query.hql\n"
     ]
    }
   ],
   "source": [
    "%%writefile -a query.hql\n",
    "\n",
    "DROP TABLE if exists posts_sample; \n",
    "\n",
    "CREATE TABLE posts_sample \n",
    "(count int) \n",
    "PARTITIONED BY (year string, month string);"
   ]
  },
  {
   "cell_type": "code",
   "execution_count": 3,
   "metadata": {},
   "outputs": [
    {
     "name": "stdout",
     "output_type": "stream",
     "text": [
      "Appending to query.hql\n"
     ]
    }
   ],
   "source": [
    "%%writefile -a query.hql\n",
    "\n",
    "FROM posts_sample_external\n",
    "INSERT OVERWRITE TABLE posts_sample\n",
    "PARTITION (year, month)\n",
    "SELECT count(*) as count, year, concat(year,\"-\",month) as month\n",
    "WHERE year IS NOT NULL\n",
    "GROUP BY year, month;"
   ]
  },
  {
   "cell_type": "code",
   "execution_count": 4,
   "metadata": {},
   "outputs": [
    {
     "name": "stdout",
     "output_type": "stream",
     "text": [
      "Writing final_query.hql\n"
     ]
    }
   ],
   "source": [
    "%%writefile final_query.hql\n",
    "\n",
    "USE stackoverflow_;\n",
    "\n",
    "SELECT year, month, count \n",
    "FROM (\n",
    "    SELECT ROW_NUMBER() OVER(ORDER BY year, month ASC) AS row_id, year, month, count\n",
    "    FROM posts_sample\n",
    ") final_table\n",
    "WHERE row_id=3;"
   ]
  },
  {
   "cell_type": "code",
   "execution_count": 5,
   "metadata": {},
   "outputs": [],
   "source": [
    "! hive -S -f query.hql"
   ]
  },
  {
   "cell_type": "code",
   "execution_count": 6,
   "metadata": {},
   "outputs": [
    {
     "name": "stdout",
     "output_type": "stream",
     "text": [
      "2008\t2008-10\t73\n"
     ]
    },
    {
     "name": "stderr",
     "output_type": "stream",
     "text": [
      "\n",
      "Logging initialized using configuration in jar:file:/usr/local/apache-hive-1.1.0-bin/lib/hive-common-1.1.0.jar!/hive-log4j.properties\n",
      "OK\n",
      "Time taken: 1.17 seconds\n",
      "Query ID = jovyan_20180515035151_5e650e2e-9e39-46f7-bba0-e5d69047f5db\n",
      "Total jobs = 1\n",
      "Launching Job 1 out of 1\n",
      "Number of reduce tasks not specified. Estimated from input data size: 1\n",
      "In order to change the average load for a reducer (in bytes):\n",
      "  set hive.exec.reducers.bytes.per.reducer=<number>\n",
      "In order to limit the maximum number of reducers:\n",
      "  set hive.exec.reducers.max=<number>\n",
      "In order to set a constant number of reducers:\n",
      "  set mapreduce.job.reduces=<number>\n",
      "Starting Job = job_1526345025465_0008, Tracking URL = http://13199025e80b:8088/proxy/application_1526345025465_0008/\n",
      "Kill Command = /opt/hadoop/bin/hadoop job  -kill job_1526345025465_0008\n",
      "Hadoop job information for Stage-1: number of mappers: 1; number of reducers: 1\n",
      "2018-05-15 03:51:40,016 Stage-1 map = 0%,  reduce = 0%\n",
      "2018-05-15 03:51:48,721 Stage-1 map = 100%,  reduce = 0%, Cumulative CPU 4.68 sec\n",
      "2018-05-15 03:51:57,449 Stage-1 map = 100%,  reduce = 100%, Cumulative CPU 10.22 sec\n",
      "MapReduce Total cumulative CPU time: 10 seconds 220 msec\n",
      "Ended Job = job_1526345025465_0008\n",
      "MapReduce Jobs Launched: \n",
      "Stage-Stage-1: Map: 1  Reduce: 1   Cumulative CPU: 10.22 sec   HDFS Read: 49053 HDFS Write: 16 SUCCESS\n",
      "Total MapReduce CPU Time Spent: 10 seconds 220 msec\n",
      "OK\n",
      "Time taken: 36.075 seconds, Fetched: 1 row(s)\n"
     ]
    }
   ],
   "source": [
    "%%bash\n",
    "hive -f final_query.hql"
   ]
  },
  {
   "cell_type": "code",
   "execution_count": null,
   "metadata": {},
   "outputs": [],
   "source": []
  }
 ],
 "metadata": {
  "kernelspec": {
   "display_name": "Python 2",
   "language": "python",
   "name": "python2"
  },
  "language_info": {
   "codemirror_mode": {
    "name": "ipython",
    "version": 2
   },
   "file_extension": ".py",
   "mimetype": "text/x-python",
   "name": "python",
   "nbconvert_exporter": "python",
   "pygments_lexer": "ipython2",
   "version": "2.7.12"
  }
 },
 "nbformat": 4,
 "nbformat_minor": 2
}
