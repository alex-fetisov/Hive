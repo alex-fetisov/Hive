{
 "cells": [
  {
   "cell_type": "markdown",
   "metadata": {},
   "source": [
    "<H3>Create new DB</H3>"
   ]
  },
  {
   "cell_type": "code",
   "execution_count": 39,
   "metadata": {
    "scrolled": true
   },
   "outputs": [
    {
     "name": "stdout",
     "output_type": "stream",
     "text": [
      "Writing creation_db.hql\n"
     ]
    }
   ],
   "source": [
    "%%writefile creation_db.hql\n",
    "\n",
    "DROP DATABASE IF EXISTS af_demodb CASCADE;\n",
    "\n",
    "CREATE DATABASE af_demodb LOCATION '/user/jovyan/af_store';"
   ]
  },
  {
   "cell_type": "code",
   "execution_count": 40,
   "metadata": {},
   "outputs": [
    {
     "name": "stdout",
     "output_type": "stream",
     "text": [
      "\n",
      "Logging initialized using configuration in jar:file:/usr/local/apache-hive-1.1.0-bin/lib/hive-common-1.1.0.jar!/hive-log4j.properties\n",
      "OK\n",
      "Time taken: 1.055 seconds\n",
      "OK\n",
      "Time taken: 0.458 seconds\n"
     ]
    }
   ],
   "source": [
    "! hive -f creation_db.hql"
   ]
  },
  {
   "cell_type": "markdown",
   "metadata": {},
   "source": [
    "<H3>Parse data from HDFS location '/data/stackexchange1000/posts' into table posts_sample_external using the regex expression</H3>"
   ]
  },
  {
   "cell_type": "code",
   "execution_count": 41,
   "metadata": {},
   "outputs": [
    {
     "name": "stdout",
     "output_type": "stream",
     "text": [
      "Overwriting query.hql\n"
     ]
    }
   ],
   "source": [
    "%%writefile query.hql\n",
    "\n",
    "ADD JAR /opt/cloudera/parcels/CDH/lib/hive/lib/hive-contrib.jar;\n",
    "ADD JAR /opt/cloudera/parcels/CDH/lib/hive/lib/hive-serde.jar;\n",
    "\n",
    "USE af_demodb;\n",
    "\n",
    "DROP TABLE if exists posts_sample_external; \n",
    "\n",
    "CREATE EXTERNAL TABLE posts_sample_external \n",
    "(row_id int,\n",
    "post_type_id int,\n",
    "year int,\n",
    "month int)\n",
    "ROW FORMAT \n",
    "SERDE 'org.apache.hadoop.hive.serde2.RegexSerDe' \n",
    "WITH SERDEPROPERTIES (\n",
    "    \"input.regex\" = \".*?(?=.*\\\\bId=\\\"(\\\\d+)\\\")(?=.*\\\\bPostTypeId=\\\"(\\\\d+)\\\")(?=.*\\\\bCreationDate=\\\"(\\\\d+)-(\\\\d+)).*$\"\n",
    ")\n",
    "LOCATION '/data/stackexchange1000/posts';"
   ]
  },
  {
   "cell_type": "code",
   "execution_count": 42,
   "metadata": {},
   "outputs": [
    {
     "name": "stdout",
     "output_type": "stream",
     "text": [
      "\n",
      "Logging initialized using configuration in jar:file:/usr/local/apache-hive-1.1.0-bin/lib/hive-common-1.1.0.jar!/hive-log4j.properties\n",
      "Added [/opt/cloudera/parcels/CDH/lib/hive/lib/hive-contrib.jar] to class path\n",
      "Added resources: [/opt/cloudera/parcels/CDH/lib/hive/lib/hive-contrib.jar]\n",
      "Added [/opt/cloudera/parcels/CDH/lib/hive/lib/hive-serde.jar] to class path\n",
      "Added resources: [/opt/cloudera/parcels/CDH/lib/hive/lib/hive-serde.jar]\n",
      "OK\n",
      "Time taken: 1.039 seconds\n",
      "OK\n",
      "Time taken: 0.102 seconds\n",
      "OK\n",
      "Time taken: 0.866 seconds\n"
     ]
    }
   ],
   "source": [
    "! hive -f query.hql"
   ]
  },
  {
   "cell_type": "markdown",
   "metadata": {},
   "source": [
    "<h3>Check the content of the table posts_sample_external</h3>\n",
    "(note the presense of NULL rows)"
   ]
  },
  {
   "cell_type": "code",
   "execution_count": 43,
   "metadata": {},
   "outputs": [
    {
     "name": "stdout",
     "output_type": "stream",
     "text": [
      "\n",
      "Logging initialized using configuration in jar:file:/usr/local/apache-hive-1.1.0-bin/lib/hive-common-1.1.0.jar!/hive-log4j.properties\n",
      "OK\n",
      "Time taken: 1.086 seconds\n",
      "OK\n",
      "NULL\tNULL\tNULL\tNULL\n",
      "1394\t2\t2008\t8\n",
      "3543\t2\t2008\t8\n",
      "4521\t2\t2008\t8\n",
      "8689\t2\t2008\t8\n",
      "Time taken: 1.706 seconds, Fetched: 5 row(s)\n"
     ]
    }
   ],
   "source": [
    "! hive --database af_demodb -e 'select * from posts_sample_external limit 5;'"
   ]
  },
  {
   "cell_type": "markdown",
   "metadata": {},
   "source": [
    "<h3> Create the table posts_sample partitioned by year and month within HDFS location '/user/jovyan/af_store/' </h3>"
   ]
  },
  {
   "cell_type": "code",
   "execution_count": 53,
   "metadata": {},
   "outputs": [
    {
     "name": "stdout",
     "output_type": "stream",
     "text": [
      "Overwriting query2.hql\n"
     ]
    }
   ],
   "source": [
    "%%writefile query2.hql\n",
    "\n",
    "USE af_demodb;\n",
    "\n",
    "DROP TABLE if exists posts_sample; \n",
    "\n",
    "CREATE TABLE posts_sample \n",
    "(count int) \n",
    "PARTITIONED BY (year string, month string) \n",
    "LOCATION '/user/jovyan/af_store/';"
   ]
  },
  {
   "cell_type": "code",
   "execution_count": 54,
   "metadata": {},
   "outputs": [
    {
     "name": "stdout",
     "output_type": "stream",
     "text": [
      "\n",
      "Logging initialized using configuration in jar:file:/usr/local/apache-hive-1.1.0-bin/lib/hive-common-1.1.0.jar!/hive-log4j.properties\n",
      "OK\n",
      "Time taken: 1.136 seconds\n",
      "OK\n",
      "Time taken: 1.727 seconds\n",
      "OK\n",
      "Time taken: 0.688 seconds\n"
     ]
    }
   ],
   "source": [
    "! hive -f query2.hql"
   ]
  },
  {
   "cell_type": "markdown",
   "metadata": {},
   "source": [
    "<h3>SELECT query to form try and form output as requested by the assignment (year 'tab' month 'table' lines count)</h3>"
   ]
  },
  {
   "cell_type": "code",
   "execution_count": 75,
   "metadata": {},
   "outputs": [
    {
     "name": "stdout",
     "output_type": "stream",
     "text": [
      "Overwriting query_try.hql\n"
     ]
    }
   ],
   "source": [
    "%%writefile query_try.hql\n",
    "\n",
    "USE af_demodb;\n",
    "\n",
    "FROM posts_sample_external\n",
    "SELECT year, concat(year,\"-\",month) as month, count(row_id)\n",
    "WHERE year IS NOT NULL\n",
    "GROUP BY year, month;"
   ]
  },
  {
   "cell_type": "code",
   "execution_count": 76,
   "metadata": {},
   "outputs": [
    {
     "name": "stdout",
     "output_type": "stream",
     "text": [
      "\n",
      "Logging initialized using configuration in jar:file:/usr/local/apache-hive-1.1.0-bin/lib/hive-common-1.1.0.jar!/hive-log4j.properties\n",
      "OK\n",
      "Time taken: 1.176 seconds\n",
      "Query ID = jovyan_20180512023131_2081d5c9-4207-4c3d-9af2-b8002c397267\n",
      "Total jobs = 1\n",
      "Launching Job 1 out of 1\n",
      "Number of reduce tasks not specified. Estimated from input data size: 1\n",
      "In order to change the average load for a reducer (in bytes):\n",
      "  set hive.exec.reducers.bytes.per.reducer=<number>\n",
      "In order to limit the maximum number of reducers:\n",
      "  set hive.exec.reducers.max=<number>\n",
      "In order to set a constant number of reducers:\n",
      "  set mapreduce.job.reduces=<number>\n",
      "Starting Job = job_1526086425574_0007, Tracking URL = http://fb266a9b2d9d:8088/proxy/application_1526086425574_0007/\n",
      "Kill Command = /opt/hadoop/bin/hadoop job  -kill job_1526086425574_0007\n",
      "Hadoop job information for Stage-1: number of mappers: 1; number of reducers: 1\n",
      "2018-05-12 02:31:55,401 Stage-1 map = 0%,  reduce = 0%\n",
      "2018-05-12 02:32:13,784 Stage-1 map = 39%,  reduce = 0%, Cumulative CPU 17.75 sec\n",
      "2018-05-12 02:32:20,185 Stage-1 map = 100%,  reduce = 0%, Cumulative CPU 24.87 sec\n",
      "2018-05-12 02:32:29,836 Stage-1 map = 100%,  reduce = 100%, Cumulative CPU 30.41 sec\n",
      "MapReduce Total cumulative CPU time: 30 seconds 410 msec\n",
      "Ended Job = job_1526086425574_0007\n",
      "MapReduce Jobs Launched: \n",
      "Stage-Stage-1: Map: 1  Reduce: 1   Cumulative CPU: 30.41 sec   HDFS Read: 60007583 HDFS Write: 1634 SUCCESS\n",
      "Total MapReduce CPU Time Spent: 30 seconds 410 msec\n",
      "OK\n",
      "2008\t2008-8\t23\n",
      "2008\t2008-9\t89\n",
      "2008\t2008-10\t73\n",
      "2008\t2008-11\t54\n",
      "2008\t2008-12\t51\n",
      "2009\t2009-1\t84\n",
      "2009\t2009-2\t84\n",
      "2009\t2009-3\t85\n",
      "2009\t2009-4\t97\n",
      "2009\t2009-5\t111\n",
      "2009\t2009-6\t120\n",
      "2009\t2009-7\t133\n",
      "2009\t2009-8\t129\n",
      "2009\t2009-9\t128\n",
      "2009\t2009-10\t133\n",
      "2009\t2009-11\t149\n",
      "2009\t2009-12\t147\n",
      "2010\t2010-1\t175\n",
      "2010\t2010-2\t162\n",
      "2010\t2010-3\t190\n",
      "2010\t2010-4\t179\n",
      "2010\t2010-5\t168\n",
      "2010\t2010-6\t201\n",
      "2010\t2010-7\t209\n",
      "2010\t2010-8\t212\n",
      "2010\t2010-9\t208\n",
      "2010\t2010-10\t222\n",
      "2010\t2010-11\t236\n",
      "2010\t2010-12\t237\n",
      "2011\t2011-1\t276\n",
      "2011\t2011-2\t273\n",
      "2011\t2011-3\t349\n",
      "2011\t2011-4\t321\n",
      "2011\t2011-5\t327\n",
      "2011\t2011-6\t340\n",
      "2011\t2011-7\t335\n",
      "2011\t2011-8\t362\n",
      "2011\t2011-9\t343\n",
      "2011\t2011-10\t331\n",
      "2011\t2011-11\t361\n",
      "2011\t2011-12\t350\n",
      "2012\t2012-1\t377\n",
      "2012\t2012-2\t412\n",
      "2012\t2012-3\t432\n",
      "2012\t2012-4\t412\n",
      "2012\t2012-5\t429\n",
      "2012\t2012-6\t412\n",
      "2012\t2012-7\t445\n",
      "2012\t2012-8\t445\n",
      "2012\t2012-9\t399\n",
      "2012\t2012-10\t469\n",
      "2012\t2012-11\t438\n",
      "2012\t2012-12\t415\n",
      "2013\t2013-1\t484\n",
      "2013\t2013-2\t474\n",
      "2013\t2013-3\t533\n",
      "2013\t2013-4\t529\n",
      "2013\t2013-5\t520\n",
      "2013\t2013-6\t477\n",
      "2013\t2013-7\t550\n",
      "2013\t2013-8\t531\n",
      "2013\t2013-9\t511\n",
      "2013\t2013-10\t570\n",
      "2013\t2013-11\t543\n",
      "2013\t2013-12\t513\n",
      "2014\t2014-1\t595\n",
      "2014\t2014-2\t585\n",
      "2014\t2014-3\t624\n",
      "2014\t2014-4\t593\n",
      "2014\t2014-5\t541\n",
      "2014\t2014-6\t487\n",
      "2014\t2014-7\t536\n",
      "2014\t2014-8\t495\n",
      "2014\t2014-9\t502\n",
      "2014\t2014-10\t527\n",
      "2014\t2014-11\t501\n",
      "2014\t2014-12\t482\n",
      "2015\t2015-1\t502\n",
      "2015\t2015-2\t506\n",
      "2015\t2015-3\t568\n",
      "2015\t2015-4\t581\n",
      "2015\t2015-5\t566\n",
      "2015\t2015-6\t570\n",
      "2015\t2015-7\t585\n",
      "2015\t2015-8\t554\n",
      "2015\t2015-9\t536\n",
      "2015\t2015-10\t561\n",
      "2015\t2015-11\t529\n",
      "2015\t2015-12\t537\n",
      "2016\t2016-1\t582\n",
      "2016\t2016-2\t592\n",
      "2016\t2016-3\t638\n",
      "2016\t2016-4\t619\n",
      "2016\t2016-5\t603\n",
      "2016\t2016-6\t584\n",
      "2016\t2016-7\t562\n",
      "2016\t2016-8\t571\n",
      "2016\t2016-9\t545\n",
      "2016\t2016-10\t554\n",
      "2016\t2016-11\t562\n",
      "2016\t2016-12\t195\n",
      "Time taken: 50.856 seconds, Fetched: 101 row(s)\n"
     ]
    }
   ],
   "source": [
    "! hive -f query_try.hql"
   ]
  },
  {
   "cell_type": "markdown",
   "metadata": {},
   "source": [
    "<h3> Populate 'posts_sample' table with data from 'posts_sample_external' table </h3>"
   ]
  },
  {
   "cell_type": "code",
   "execution_count": 78,
   "metadata": {},
   "outputs": [
    {
     "name": "stdout",
     "output_type": "stream",
     "text": [
      "Overwriting query3.hql\n"
     ]
    }
   ],
   "source": [
    "%%writefile query3.hql\n",
    "\n",
    "set hive.exec.dynamic.partition.mode=nonstrict;\n",
    "\n",
    "USE af_demodb;\n",
    "\n",
    "FROM posts_sample_external\n",
    "INSERT OVERWRITE TABLE posts_sample\n",
    "PARTITION (year, month)\n",
    "SELECT year, concat(year,\"-\",month) as month, count(row_id) as count\n",
    "WHERE year IS NOT NULL\n",
    "GROUP BY year, month;"
   ]
  },
  {
   "cell_type": "code",
   "execution_count": 79,
   "metadata": {},
   "outputs": [
    {
     "name": "stdout",
     "output_type": "stream",
     "text": [
      "\n",
      "Logging initialized using configuration in jar:file:/usr/local/apache-hive-1.1.0-bin/lib/hive-common-1.1.0.jar!/hive-log4j.properties\n",
      "OK\n",
      "Time taken: 1.16 seconds\n",
      "Query ID = jovyan_20180512023535_0a565c6f-6f07-445c-91bb-69bacb977687\n",
      "Total jobs = 1\n",
      "Launching Job 1 out of 1\n",
      "Number of reduce tasks not specified. Estimated from input data size: 1\n",
      "In order to change the average load for a reducer (in bytes):\n",
      "  set hive.exec.reducers.bytes.per.reducer=<number>\n",
      "In order to limit the maximum number of reducers:\n",
      "  set hive.exec.reducers.max=<number>\n",
      "In order to set a constant number of reducers:\n",
      "  set mapreduce.job.reduces=<number>\n",
      "Starting Job = job_1526086425574_0008, Tracking URL = http://fb266a9b2d9d:8088/proxy/application_1526086425574_0008/\n",
      "Kill Command = /opt/hadoop/bin/hadoop job  -kill job_1526086425574_0008\n",
      "Hadoop job information for Stage-1: number of mappers: 1; number of reducers: 1\n",
      "2018-05-12 02:35:54,340 Stage-1 map = 0%,  reduce = 0%\n",
      "2018-05-12 02:36:12,777 Stage-1 map = 36%,  reduce = 0%, Cumulative CPU 17.95 sec\n",
      "2018-05-12 02:36:19,180 Stage-1 map = 58%,  reduce = 0%, Cumulative CPU 24.34 sec\n",
      "2018-05-12 02:36:21,309 Stage-1 map = 100%,  reduce = 0%, Cumulative CPU 26.88 sec\n",
      "2018-05-12 02:36:40,496 Stage-1 map = 100%,  reduce = 100%, Cumulative CPU 35.82 sec\n",
      "MapReduce Total cumulative CPU time: 35 seconds 820 msec\n",
      "Ended Job = job_1526086425574_0008\n",
      "Loading data to table af_demodb.posts_sample partition (year=null, month=null)\n",
      "\t Time taken for load dynamic partitions : 14406\n",
      "\tLoading partition {year=2012-12, month=415}\n",
      "\tLoading partition {year=2016-2, month=592}\n",
      "\tLoading partition {year=2016-5, month=603}\n",
      "\tLoading partition {year=2011-8, month=362}\n",
      "\tLoading partition {year=2016-11, month=562}\n",
      "\tLoading partition {year=2008-11, month=54}\n",
      "\tLoading partition {year=2012-1, month=377}\n",
      "\tLoading partition {year=2013-2, month=474}\n",
      "\tLoading partition {year=2013-4, month=529}\n",
      "\tLoading partition {year=2009-5, month=111}\n",
      "\tLoading partition {year=2012-2, month=412}\n",
      "\tLoading partition {year=2016-12, month=195}\n",
      "\tLoading partition {year=2009-10, month=133}\n",
      "\tLoading partition {year=2012-5, month=429}\n",
      "\tLoading partition {year=2016-10, month=554}\n",
      "\tLoading partition {year=2012-6, month=412}\n",
      "\tLoading partition {year=2016-4, month=619}\n",
      "\tLoading partition {year=2011-9, month=343}\n",
      "\tLoading partition {year=2010-2, month=162}\n",
      "\tLoading partition {year=2013-8, month=531}\n",
      "\tLoading partition {year=2009-7, month=133}\n",
      "\tLoading partition {year=2012-10, month=469}\n",
      "\tLoading partition {year=2014-8, month=495}\n",
      "\tLoading partition {year=2010-8, month=212}\n",
      "\tLoading partition {year=2015-3, month=568}\n",
      "\tLoading partition {year=2012-7, month=445}\n",
      "\tLoading partition {year=2014-10, month=527}\n",
      "\tLoading partition {year=2016-8, month=571}\n",
      "\tLoading partition {year=2013-10, month=570}\n",
      "\tLoading partition {year=2014-9, month=502}\n",
      "\tLoading partition {year=2013-5, month=520}\n",
      "\tLoading partition {year=2012-9, month=399}\n",
      "\tLoading partition {year=2008-10, month=73}\n",
      "\tLoading partition {year=2013-7, month=550}\n",
      "\tLoading partition {year=2010-7, month=209}\n",
      "\tLoading partition {year=2015-10, month=561}\n",
      "\tLoading partition {year=2016-6, month=584}\n",
      "\tLoading partition {year=2011-4, month=321}\n",
      "\tLoading partition {year=2009-4, month=97}\n",
      "\tLoading partition {year=2013-3, month=533}\n",
      "\tLoading partition {year=2014-3, month=624}\n",
      "\tLoading partition {year=2016-7, month=562}\n",
      "\tLoading partition {year=2014-4, month=593}\n",
      "\tLoading partition {year=2011-6, month=340}\n",
      "\tLoading partition {year=2013-9, month=511}\n",
      "\tLoading partition {year=2014-12, month=482}\n",
      "\tLoading partition {year=2016-9, month=545}\n",
      "\tLoading partition {year=2010-12, month=237}\n",
      "\tLoading partition {year=2015-1, month=502}\n",
      "\tLoading partition {year=2015-8, month=554}\n",
      "\tLoading partition {year=2010-3, month=190}\n",
      "\tLoading partition {year=2014-6, month=487}\n",
      "\tLoading partition {year=2009-8, month=129}\n",
      "\tLoading partition {year=2011-10, month=331}\n",
      "\tLoading partition {year=2009-1, month=84}\n",
      "\tLoading partition {year=2014-5, month=541}\n",
      "\tLoading partition {year=2015-2, month=506}\n",
      "\tLoading partition {year=2012-3, month=432}\n",
      "\tLoading partition {year=2011-5, month=327}\n",
      "\tLoading partition {year=2015-6, month=570}\n",
      "\tLoading partition {year=2013-6, month=477}\n",
      "\tLoading partition {year=2011-11, month=361}\n",
      "\tLoading partition {year=2014-1, month=595}\n",
      "\tLoading partition {year=2011-12, month=350}\n",
      "\tLoading partition {year=2012-4, month=412}\n",
      "\tLoading partition {year=2012-11, month=438}\n",
      "\tLoading partition {year=2011-2, month=273}\n",
      "\tLoading partition {year=2011-1, month=276}\n",
      "\tLoading partition {year=2008-12, month=51}\n",
      "\tLoading partition {year=2010-5, month=168}\n",
      "\tLoading partition {year=2011-3, month=349}\n",
      "\tLoading partition {year=2008-9, month=89}\n",
      "\tLoading partition {year=2012-8, month=445}\n",
      "\tLoading partition {year=2014-2, month=585}\n",
      "\tLoading partition {year=2015-4, month=581}\n",
      "\tLoading partition {year=2009-3, month=85}\n",
      "\tLoading partition {year=2010-10, month=222}\n",
      "\tLoading partition {year=2016-1, month=582}\n",
      "\tLoading partition {year=2015-7, month=585}\n",
      "\tLoading partition {year=2010-1, month=175}\n",
      "\tLoading partition {year=2015-12, month=537}\n",
      "\tLoading partition {year=2015-9, month=536}\n",
      "\tLoading partition {year=2010-6, month=201}\n",
      "\tLoading partition {year=2009-12, month=147}\n",
      "\tLoading partition {year=2011-7, month=335}\n",
      "\tLoading partition {year=2016-3, month=638}\n",
      "\tLoading partition {year=2009-6, month=120}\n",
      "\tLoading partition {year=2010-4, month=179}\n",
      "\tLoading partition {year=2014-7, month=536}\n",
      "\tLoading partition {year=2009-9, month=128}\n",
      "\tLoading partition {year=2009-2, month=84}\n",
      "\tLoading partition {year=2013-1, month=484}\n",
      "\tLoading partition {year=2014-11, month=501}\n",
      "\tLoading partition {year=2015-5, month=566}\n",
      "\tLoading partition {year=2015-11, month=529}\n",
      "\tLoading partition {year=2010-9, month=208}\n",
      "\tLoading partition {year=2013-12, month=513}\n",
      "\tLoading partition {year=2008-8, month=23}\n",
      "\tLoading partition {year=2009-11, month=149}\n",
      "\tLoading partition {year=2010-11, month=236}\n",
      "\tLoading partition {year=2013-11, month=543}\n",
      "\t Time taken for adding to write entity : 23\n",
      "Partition af_demodb.posts_sample{year=2008-10, month=73} stats: [numFiles=1, numRows=1, totalSize=5, rawDataSize=4]\n",
      "Partition af_demodb.posts_sample{year=2008-11, month=54} stats: [numFiles=1, numRows=1, totalSize=5, rawDataSize=4]\n",
      "Partition af_demodb.posts_sample{year=2008-12, month=51} stats: [numFiles=1, numRows=1, totalSize=5, rawDataSize=4]\n",
      "Partition af_demodb.posts_sample{year=2008-8, month=23} stats: [numFiles=1, numRows=1, totalSize=5, rawDataSize=4]\n",
      "Partition af_demodb.posts_sample{year=2008-9, month=89} stats: [numFiles=1, numRows=1, totalSize=5, rawDataSize=4]\n",
      "Partition af_demodb.posts_sample{year=2009-1, month=84} stats: [numFiles=1, numRows=1, totalSize=5, rawDataSize=4]\n",
      "Partition af_demodb.posts_sample{year=2009-10, month=133} stats: [numFiles=1, numRows=1, totalSize=5, rawDataSize=4]\n",
      "Partition af_demodb.posts_sample{year=2009-11, month=149} stats: [numFiles=1, numRows=1, totalSize=5, rawDataSize=4]\n",
      "Partition af_demodb.posts_sample{year=2009-12, month=147} stats: [numFiles=1, numRows=1, totalSize=5, rawDataSize=4]\n",
      "Partition af_demodb.posts_sample{year=2009-2, month=84} stats: [numFiles=1, numRows=1, totalSize=5, rawDataSize=4]\n",
      "Partition af_demodb.posts_sample{year=2009-3, month=85} stats: [numFiles=1, numRows=1, totalSize=5, rawDataSize=4]\n",
      "Partition af_demodb.posts_sample{year=2009-4, month=97} stats: [numFiles=1, numRows=1, totalSize=5, rawDataSize=4]\n",
      "Partition af_demodb.posts_sample{year=2009-5, month=111} stats: [numFiles=1, numRows=1, totalSize=5, rawDataSize=4]\n",
      "Partition af_demodb.posts_sample{year=2009-6, month=120} stats: [numFiles=1, numRows=1, totalSize=5, rawDataSize=4]\n",
      "Partition af_demodb.posts_sample{year=2009-7, month=133} stats: [numFiles=1, numRows=1, totalSize=5, rawDataSize=4]\n",
      "Partition af_demodb.posts_sample{year=2009-8, month=129} stats: [numFiles=1, numRows=1, totalSize=5, rawDataSize=4]\n",
      "Partition af_demodb.posts_sample{year=2009-9, month=128} stats: [numFiles=1, numRows=1, totalSize=5, rawDataSize=4]\n",
      "Partition af_demodb.posts_sample{year=2010-1, month=175} stats: [numFiles=1, numRows=1, totalSize=5, rawDataSize=4]\n",
      "Partition af_demodb.posts_sample{year=2010-10, month=222} stats: [numFiles=1, numRows=1, totalSize=5, rawDataSize=4]\n",
      "Partition af_demodb.posts_sample{year=2010-11, month=236} stats: [numFiles=1, numRows=1, totalSize=5, rawDataSize=4]\n",
      "Partition af_demodb.posts_sample{year=2010-12, month=237} stats: [numFiles=1, numRows=1, totalSize=5, rawDataSize=4]\n",
      "Partition af_demodb.posts_sample{year=2010-2, month=162} stats: [numFiles=1, numRows=1, totalSize=5, rawDataSize=4]\n",
      "Partition af_demodb.posts_sample{year=2010-3, month=190} stats: [numFiles=1, numRows=1, totalSize=5, rawDataSize=4]\n",
      "Partition af_demodb.posts_sample{year=2010-4, month=179} stats: [numFiles=1, numRows=1, totalSize=5, rawDataSize=4]\n",
      "Partition af_demodb.posts_sample{year=2010-5, month=168} stats: [numFiles=1, numRows=1, totalSize=5, rawDataSize=4]\n",
      "Partition af_demodb.posts_sample{year=2010-6, month=201} stats: [numFiles=1, numRows=1, totalSize=5, rawDataSize=4]\n",
      "Partition af_demodb.posts_sample{year=2010-7, month=209} stats: [numFiles=1, numRows=1, totalSize=5, rawDataSize=4]\n",
      "Partition af_demodb.posts_sample{year=2010-8, month=212} stats: [numFiles=1, numRows=1, totalSize=5, rawDataSize=4]\n",
      "Partition af_demodb.posts_sample{year=2010-9, month=208} stats: [numFiles=1, numRows=1, totalSize=5, rawDataSize=4]\n",
      "Partition af_demodb.posts_sample{year=2011-1, month=276} stats: [numFiles=1, numRows=1, totalSize=5, rawDataSize=4]\n",
      "Partition af_demodb.posts_sample{year=2011-10, month=331} stats: [numFiles=1, numRows=1, totalSize=5, rawDataSize=4]\n",
      "Partition af_demodb.posts_sample{year=2011-11, month=361} stats: [numFiles=1, numRows=1, totalSize=5, rawDataSize=4]\n",
      "Partition af_demodb.posts_sample{year=2011-12, month=350} stats: [numFiles=1, numRows=1, totalSize=5, rawDataSize=4]\n",
      "Partition af_demodb.posts_sample{year=2011-2, month=273} stats: [numFiles=1, numRows=1, totalSize=5, rawDataSize=4]\n",
      "Partition af_demodb.posts_sample{year=2011-3, month=349} stats: [numFiles=1, numRows=1, totalSize=5, rawDataSize=4]\n",
      "Partition af_demodb.posts_sample{year=2011-4, month=321} stats: [numFiles=1, numRows=1, totalSize=5, rawDataSize=4]\n",
      "Partition af_demodb.posts_sample{year=2011-5, month=327} stats: [numFiles=1, numRows=1, totalSize=5, rawDataSize=4]\n",
      "Partition af_demodb.posts_sample{year=2011-6, month=340} stats: [numFiles=1, numRows=1, totalSize=5, rawDataSize=4]\n",
      "Partition af_demodb.posts_sample{year=2011-7, month=335} stats: [numFiles=1, numRows=1, totalSize=5, rawDataSize=4]\n"
     ]
    },
    {
     "name": "stdout",
     "output_type": "stream",
     "text": [
      "Partition af_demodb.posts_sample{year=2011-8, month=362} stats: [numFiles=1, numRows=1, totalSize=5, rawDataSize=4]\n",
      "Partition af_demodb.posts_sample{year=2011-9, month=343} stats: [numFiles=1, numRows=1, totalSize=5, rawDataSize=4]\n",
      "Partition af_demodb.posts_sample{year=2012-1, month=377} stats: [numFiles=1, numRows=1, totalSize=5, rawDataSize=4]\n",
      "Partition af_demodb.posts_sample{year=2012-10, month=469} stats: [numFiles=1, numRows=1, totalSize=5, rawDataSize=4]\n",
      "Partition af_demodb.posts_sample{year=2012-11, month=438} stats: [numFiles=1, numRows=1, totalSize=5, rawDataSize=4]\n",
      "Partition af_demodb.posts_sample{year=2012-12, month=415} stats: [numFiles=1, numRows=1, totalSize=5, rawDataSize=4]\n",
      "Partition af_demodb.posts_sample{year=2012-2, month=412} stats: [numFiles=1, numRows=1, totalSize=5, rawDataSize=4]\n",
      "Partition af_demodb.posts_sample{year=2012-3, month=432} stats: [numFiles=1, numRows=1, totalSize=5, rawDataSize=4]\n",
      "Partition af_demodb.posts_sample{year=2012-4, month=412} stats: [numFiles=1, numRows=1, totalSize=5, rawDataSize=4]\n",
      "Partition af_demodb.posts_sample{year=2012-5, month=429} stats: [numFiles=1, numRows=1, totalSize=5, rawDataSize=4]\n",
      "Partition af_demodb.posts_sample{year=2012-6, month=412} stats: [numFiles=1, numRows=1, totalSize=5, rawDataSize=4]\n",
      "Partition af_demodb.posts_sample{year=2012-7, month=445} stats: [numFiles=1, numRows=1, totalSize=5, rawDataSize=4]\n",
      "Partition af_demodb.posts_sample{year=2012-8, month=445} stats: [numFiles=1, numRows=1, totalSize=5, rawDataSize=4]\n",
      "Partition af_demodb.posts_sample{year=2012-9, month=399} stats: [numFiles=1, numRows=1, totalSize=5, rawDataSize=4]\n",
      "Partition af_demodb.posts_sample{year=2013-1, month=484} stats: [numFiles=1, numRows=1, totalSize=5, rawDataSize=4]\n",
      "Partition af_demodb.posts_sample{year=2013-10, month=570} stats: [numFiles=1, numRows=1, totalSize=5, rawDataSize=4]\n",
      "Partition af_demodb.posts_sample{year=2013-11, month=543} stats: [numFiles=1, numRows=1, totalSize=5, rawDataSize=4]\n",
      "Partition af_demodb.posts_sample{year=2013-12, month=513} stats: [numFiles=1, numRows=1, totalSize=5, rawDataSize=4]\n",
      "Partition af_demodb.posts_sample{year=2013-2, month=474} stats: [numFiles=1, numRows=1, totalSize=5, rawDataSize=4]\n",
      "Partition af_demodb.posts_sample{year=2013-3, month=533} stats: [numFiles=1, numRows=1, totalSize=5, rawDataSize=4]\n",
      "Partition af_demodb.posts_sample{year=2013-4, month=529} stats: [numFiles=1, numRows=1, totalSize=5, rawDataSize=4]\n",
      "Partition af_demodb.posts_sample{year=2013-5, month=520} stats: [numFiles=1, numRows=1, totalSize=5, rawDataSize=4]\n",
      "Partition af_demodb.posts_sample{year=2013-6, month=477} stats: [numFiles=1, numRows=1, totalSize=5, rawDataSize=4]\n",
      "Partition af_demodb.posts_sample{year=2013-7, month=550} stats: [numFiles=1, numRows=1, totalSize=5, rawDataSize=4]\n",
      "Partition af_demodb.posts_sample{year=2013-8, month=531} stats: [numFiles=1, numRows=1, totalSize=5, rawDataSize=4]\n",
      "Partition af_demodb.posts_sample{year=2013-9, month=511} stats: [numFiles=1, numRows=1, totalSize=5, rawDataSize=4]\n",
      "Partition af_demodb.posts_sample{year=2014-1, month=595} stats: [numFiles=1, numRows=1, totalSize=5, rawDataSize=4]\n",
      "Partition af_demodb.posts_sample{year=2014-10, month=527} stats: [numFiles=1, numRows=1, totalSize=5, rawDataSize=4]\n",
      "Partition af_demodb.posts_sample{year=2014-11, month=501} stats: [numFiles=1, numRows=1, totalSize=5, rawDataSize=4]\n",
      "Partition af_demodb.posts_sample{year=2014-12, month=482} stats: [numFiles=1, numRows=1, totalSize=5, rawDataSize=4]\n",
      "Partition af_demodb.posts_sample{year=2014-2, month=585} stats: [numFiles=1, numRows=1, totalSize=5, rawDataSize=4]\n",
      "Partition af_demodb.posts_sample{year=2014-3, month=624} stats: [numFiles=1, numRows=1, totalSize=5, rawDataSize=4]\n",
      "Partition af_demodb.posts_sample{year=2014-4, month=593} stats: [numFiles=1, numRows=1, totalSize=5, rawDataSize=4]\n",
      "Partition af_demodb.posts_sample{year=2014-5, month=541} stats: [numFiles=1, numRows=1, totalSize=5, rawDataSize=4]\n",
      "Partition af_demodb.posts_sample{year=2014-6, month=487} stats: [numFiles=1, numRows=1, totalSize=5, rawDataSize=4]\n",
      "Partition af_demodb.posts_sample{year=2014-7, month=536} stats: [numFiles=1, numRows=1, totalSize=5, rawDataSize=4]\n",
      "Partition af_demodb.posts_sample{year=2014-8, month=495} stats: [numFiles=1, numRows=1, totalSize=5, rawDataSize=4]\n",
      "Partition af_demodb.posts_sample{year=2014-9, month=502} stats: [numFiles=1, numRows=1, totalSize=5, rawDataSize=4]\n",
      "Partition af_demodb.posts_sample{year=2015-1, month=502} stats: [numFiles=1, numRows=1, totalSize=5, rawDataSize=4]\n",
      "Partition af_demodb.posts_sample{year=2015-10, month=561} stats: [numFiles=1, numRows=1, totalSize=5, rawDataSize=4]\n",
      "Partition af_demodb.posts_sample{year=2015-11, month=529} stats: [numFiles=1, numRows=1, totalSize=5, rawDataSize=4]\n",
      "Partition af_demodb.posts_sample{year=2015-12, month=537} stats: [numFiles=1, numRows=1, totalSize=5, rawDataSize=4]\n",
      "Partition af_demodb.posts_sample{year=2015-2, month=506} stats: [numFiles=1, numRows=1, totalSize=5, rawDataSize=4]\n",
      "Partition af_demodb.posts_sample{year=2015-3, month=568} stats: [numFiles=1, numRows=1, totalSize=5, rawDataSize=4]\n",
      "Partition af_demodb.posts_sample{year=2015-4, month=581} stats: [numFiles=1, numRows=1, totalSize=5, rawDataSize=4]\n",
      "Partition af_demodb.posts_sample{year=2015-5, month=566} stats: [numFiles=1, numRows=1, totalSize=5, rawDataSize=4]\n",
      "Partition af_demodb.posts_sample{year=2015-6, month=570} stats: [numFiles=1, numRows=1, totalSize=5, rawDataSize=4]\n",
      "Partition af_demodb.posts_sample{year=2015-7, month=585} stats: [numFiles=1, numRows=1, totalSize=5, rawDataSize=4]\n",
      "Partition af_demodb.posts_sample{year=2015-8, month=554} stats: [numFiles=1, numRows=1, totalSize=5, rawDataSize=4]\n",
      "Partition af_demodb.posts_sample{year=2015-9, month=536} stats: [numFiles=1, numRows=1, totalSize=5, rawDataSize=4]\n",
      "Partition af_demodb.posts_sample{year=2016-1, month=582} stats: [numFiles=1, numRows=1, totalSize=5, rawDataSize=4]\n",
      "Partition af_demodb.posts_sample{year=2016-10, month=554} stats: [numFiles=1, numRows=1, totalSize=5, rawDataSize=4]\n",
      "Partition af_demodb.posts_sample{year=2016-11, month=562} stats: [numFiles=1, numRows=1, totalSize=5, rawDataSize=4]\n",
      "Partition af_demodb.posts_sample{year=2016-12, month=195} stats: [numFiles=1, numRows=1, totalSize=5, rawDataSize=4]\n",
      "Partition af_demodb.posts_sample{year=2016-2, month=592} stats: [numFiles=1, numRows=1, totalSize=5, rawDataSize=4]\n",
      "Partition af_demodb.posts_sample{year=2016-3, month=638} stats: [numFiles=1, numRows=1, totalSize=5, rawDataSize=4]\n",
      "Partition af_demodb.posts_sample{year=2016-4, month=619} stats: [numFiles=1, numRows=1, totalSize=5, rawDataSize=4]\n",
      "Partition af_demodb.posts_sample{year=2016-5, month=603} stats: [numFiles=1, numRows=1, totalSize=5, rawDataSize=4]\n",
      "Partition af_demodb.posts_sample{year=2016-6, month=584} stats: [numFiles=1, numRows=1, totalSize=5, rawDataSize=4]\n",
      "Partition af_demodb.posts_sample{year=2016-7, month=562} stats: [numFiles=1, numRows=1, totalSize=5, rawDataSize=4]\n",
      "Partition af_demodb.posts_sample{year=2016-8, month=571} stats: [numFiles=1, numRows=1, totalSize=5, rawDataSize=4]\n",
      "Partition af_demodb.posts_sample{year=2016-9, month=545} stats: [numFiles=1, numRows=1, totalSize=5, rawDataSize=4]\n",
      "MapReduce Jobs Launched: \n",
      "Stage-Stage-1: Map: 1  Reduce: 1   Cumulative CPU: 36.59 sec   HDFS Read: 60007995 HDFS Write: 6923 SUCCESS\n",
      "Total MapReduce CPU Time Spent: 36 seconds 590 msec\n",
      "OK\n",
      "Time taken: 86.768 seconds\n"
     ]
    }
   ],
   "source": [
    "! hive -f query3.hql"
   ]
  },
  {
   "cell_type": "markdown",
   "metadata": {},
   "source": [
    "<h3> get the line for \"2008-10\"</h3>"
   ]
  },
  {
   "cell_type": "code",
   "execution_count": 88,
   "metadata": {},
   "outputs": [
    {
     "name": "stdout",
     "output_type": "stream",
     "text": [
      "Overwriting query4.hql\n"
     ]
    }
   ],
   "source": [
    "%%writefile query4.hql\n",
    "\n",
    "USE af_demodb;\n",
    "\n",
    "SELECT year, month, count \n",
    "FROM posts_sample \n",
    "WHERE month = '2008-10';"
   ]
  },
  {
   "cell_type": "code",
   "execution_count": 89,
   "metadata": {},
   "outputs": [
    {
     "name": "stdout",
     "output_type": "stream",
     "text": [
      "\n",
      "Logging initialized using configuration in jar:file:/usr/local/apache-hive-1.1.0-bin/lib/hive-common-1.1.0.jar!/hive-log4j.properties\n",
      "OK\n",
      "Time taken: 1.128 seconds\n",
      "OK\n",
      "2008\t2008-10\t73\n",
      "Time taken: 2.73 seconds, Fetched: 1 row(s)\n"
     ]
    }
   ],
   "source": [
    "! hive -f query4.hql"
   ]
  },
  {
   "cell_type": "code",
   "execution_count": null,
   "metadata": {},
   "outputs": [],
   "source": []
  }
 ],
 "metadata": {
  "kernelspec": {
   "display_name": "Python 2",
   "language": "python",
   "name": "python2"
  },
  "language_info": {
   "codemirror_mode": {
    "name": "ipython",
    "version": 2
   },
   "file_extension": ".py",
   "mimetype": "text/x-python",
   "name": "python",
   "nbconvert_exporter": "python",
   "pygments_lexer": "ipython2",
   "version": "2.7.12"
  }
 },
 "nbformat": 4,
 "nbformat_minor": 2
}
