{
 "cells": [
  {
   "cell_type": "code",
   "execution_count": 61,
   "metadata": {},
   "outputs": [
    {
     "name": "stdout",
     "output_type": "stream",
     "text": [
      "Overwriting query.hql\n"
     ]
    }
   ],
   "source": [
    "%%writefile query.hql\n",
    "\n",
    "ADD JAR /opt/cloudera/parcels/CDH/lib/hive/lib/hive-contrib.jar;\n",
    "ADD JAR /opt/cloudera/parcels/CDH/lib/hive/lib/hive-serde.jar;"
   ]
  },
  {
   "cell_type": "code",
   "execution_count": 62,
   "metadata": {},
   "outputs": [
    {
     "name": "stdout",
     "output_type": "stream",
     "text": [
      "Appending to query.hql\n"
     ]
    }
   ],
   "source": [
    "%%writefile -a query.hql\n",
    "\n",
    "USE stackoverflow_;"
   ]
  },
  {
   "cell_type": "code",
   "execution_count": 63,
   "metadata": {},
   "outputs": [
    {
     "name": "stdout",
     "output_type": "stream",
     "text": [
      "Appending to query.hql\n"
     ]
    }
   ],
   "source": [
    "%%writefile -a query.hql\n",
    "\n",
    "DROP TABLE if exists post_sample_external; \n",
    "\n",
    "CREATE EXTERNAL TABLE post_sample_external  \n",
    "(row_id INT,\n",
    "post_type_id INT,\n",
    "year INT,\n",
    "month INT,\n",
    "tag STRING)\n",
    "ROW FORMAT SERDE 'org.apache.hadoop.hive.serde2.RegexSerDe' \n",
    "WITH SERDEPROPERTIES (\n",
    "    \"input.regex\" = \".*?(?=.*\\\\bId=\\\"(\\\\d+)\\\")(?=.*\\\\bPostTypeId=\\\"(\\\\d+)\\\")(?=.*\\\\bCreationDate=\\\"(\\\\d+)-(\\\\d+))(?=.*\\\\bTags=\\\"&\\\\w+;(.+?(?=&))).*\", \"output.format.string\" = \"%1$s %2$s %3$s %4$s %5$s\"\n",
    ")\n",
    "STORED AS TEXTFILE\n",
    "LOCATION '/data/stackexchange1000/posts';"
   ]
  },
  {
   "cell_type": "code",
   "execution_count": 55,
   "metadata": {},
   "outputs": [
    {
     "name": "stdout",
     "output_type": "stream",
     "text": [
      "Appending to query.hql\n"
     ]
    }
   ],
   "source": [
    "%%writefile -a query.hql\n",
    "\n",
    "DROP TABLE if exists post_sample_external; \n",
    "\n",
    "CREATE EXTERNAL TABLE post_sample_external  \n",
    "(row_id INT,\n",
    "post_type_id INT,\n",
    "year INT,\n",
    "month INT,\n",
    "tag STRING)\n",
    "ROW FORMAT SERDE 'org.apache.hadoop.hive.serde2.RegexSerDe' \n",
    "WITH SERDEPROPERTIES (\n",
    "    \"input.regex\" = '.*?(?=.*\\bId=\"(\\d+)\")(?=.*\\bPostTypeId=\"(\\d+)\")(?=.*\\bCreationDate=\"(\\d+)-(\\d+))(?=.*\\bTags=\"&\\w+;(.+?(?=&))).*'\n",
    ")\n",
    "STORED AS TEXTFILE\n",
    "LOCATION '/data/stackexchange1000/posts';"
   ]
  },
  {
   "cell_type": "code",
   "execution_count": null,
   "metadata": {},
   "outputs": [],
   "source": [
    "CREATE EXTERNAL TABLE posts_sample_external \n",
    "(id int,\n",
    " post_type_id, tinyint, ....) \n",
    "ROW FORMAT SERDE 'org.apache.hadoop.hive.serde2.RegexSerDe'\n",
    "WITH SERDEPROPERTIES ( \n",
    "    \"input.regex\" = \".*?(?=.*\\\\bId=\\\"(\\\\d+)\\\")(?=.*\\\\bPostTypeId=\\\"(\\\\d+)\\\")(?=.*\\\\bParentId...\", \"output.format.string\" = \"%1$s %2$s %3$s %4$s %5$s %6$s %7$s %8$s %9$s %10$s %11$s %12$s\", \"timestamp.formats\" = \"yyyy-MM-dd'T'HH:mm:ss.SSS\") STORED AS TEXTFILE LOCATION '/data/stackexchange1000/posts';"
   ]
  },
  {
   "cell_type": "code",
   "execution_count": null,
   "metadata": {},
   "outputs": [],
   "source": []
  },
  {
   "cell_type": "code",
   "execution_count": null,
   "metadata": {},
   "outputs": [],
   "source": []
  },
  {
   "cell_type": "code",
   "execution_count": null,
   "metadata": {},
   "outputs": [],
   "source": []
  },
  {
   "cell_type": "code",
   "execution_count": 64,
   "metadata": {},
   "outputs": [
    {
     "name": "stdout",
     "output_type": "stream",
     "text": [
      "\n",
      "Logging initialized using configuration in jar:file:/usr/local/apache-hive-1.1.0-bin/lib/hive-common-1.1.0.jar!/hive-log4j.properties\n",
      "Added [/opt/cloudera/parcels/CDH/lib/hive/lib/hive-contrib.jar] to class path\n",
      "Added resources: [/opt/cloudera/parcels/CDH/lib/hive/lib/hive-contrib.jar]\n",
      "Added [/opt/cloudera/parcels/CDH/lib/hive/lib/hive-serde.jar] to class path\n",
      "Added resources: [/opt/cloudera/parcels/CDH/lib/hive/lib/hive-serde.jar]\n",
      "OK\n",
      "Time taken: 1.163 seconds\n",
      "OK\n",
      "Time taken: 0.119 seconds\n",
      "MismatchedTokenException(17!=302)\n",
      "\tat org.antlr.runtime.BaseRecognizer.recoverFromMismatchedToken(BaseRecognizer.java:617)\n",
      "\tat org.antlr.runtime.BaseRecognizer.match(BaseRecognizer.java:115)\n",
      "\tat org.apache.hadoop.hive.ql.parse.HiveParser.keyValueProperty(HiveParser.java:34763)\n",
      "\tat org.apache.hadoop.hive.ql.parse.HiveParser.tablePropertiesList(HiveParser.java:34533)\n",
      "\tat org.apache.hadoop.hive.ql.parse.HiveParser.tableProperties(HiveParser.java:34396)\n",
      "\tat org.apache.hadoop.hive.ql.parse.HiveParser.rowFormatSerde(HiveParser.java:33772)\n",
      "\tat org.apache.hadoop.hive.ql.parse.HiveParser.tableRowFormat(HiveParser.java:34237)\n",
      "\tat org.apache.hadoop.hive.ql.parse.HiveParser.createTableStatement(HiveParser.java:4979)\n",
      "\tat org.apache.hadoop.hive.ql.parse.HiveParser.ddlStatement(HiveParser.java:2355)\n",
      "\tat org.apache.hadoop.hive.ql.parse.HiveParser.execStatement(HiveParser.java:1579)\n",
      "\tat org.apache.hadoop.hive.ql.parse.HiveParser.statement(HiveParser.java:1057)\n",
      "\tat org.apache.hadoop.hive.ql.parse.ParseDriver.parse(ParseDriver.java:199)\n",
      "\tat org.apache.hadoop.hive.ql.parse.ParseDriver.parse(ParseDriver.java:166)\n",
      "\tat org.apache.hadoop.hive.ql.Driver.compile(Driver.java:393)\n",
      "\tat org.apache.hadoop.hive.ql.Driver.compile(Driver.java:307)\n",
      "\tat org.apache.hadoop.hive.ql.Driver.compileInternal(Driver.java:1112)\n",
      "\tat org.apache.hadoop.hive.ql.Driver.runInternal(Driver.java:1160)\n",
      "\tat org.apache.hadoop.hive.ql.Driver.run(Driver.java:1049)\n",
      "\tat org.apache.hadoop.hive.ql.Driver.run(Driver.java:1039)\n",
      "\tat org.apache.hadoop.hive.cli.CliDriver.processLocalCmd(CliDriver.java:207)\n",
      "\tat org.apache.hadoop.hive.cli.CliDriver.processCmd(CliDriver.java:159)\n",
      "\tat org.apache.hadoop.hive.cli.CliDriver.processLine(CliDriver.java:370)\n",
      "\tat org.apache.hadoop.hive.cli.CliDriver.processLine(CliDriver.java:305)\n",
      "\tat org.apache.hadoop.hive.cli.CliDriver.processReader(CliDriver.java:403)\n",
      "\tat org.apache.hadoop.hive.cli.CliDriver.processFile(CliDriver.java:419)\n",
      "\tat org.apache.hadoop.hive.cli.CliDriver.executeDriver(CliDriver.java:708)\n",
      "\tat org.apache.hadoop.hive.cli.CliDriver.run(CliDriver.java:675)\n",
      "\tat org.apache.hadoop.hive.cli.CliDriver.main(CliDriver.java:615)\n",
      "\tat sun.reflect.NativeMethodAccessorImpl.invoke0(Native Method)\n",
      "\tat sun.reflect.NativeMethodAccessorImpl.invoke(NativeMethodAccessorImpl.java:62)\n",
      "\tat sun.reflect.DelegatingMethodAccessorImpl.invoke(DelegatingMethodAccessorImpl.java:43)\n",
      "\tat java.lang.reflect.Method.invoke(Method.java:498)\n",
      "\tat org.apache.hadoop.util.RunJar.run(RunJar.java:234)\n",
      "\tat org.apache.hadoop.util.RunJar.main(RunJar.java:148)\n",
      "FAILED: ParseException line 11:21 mismatched input '.' expecting StringLiteral near '=' in specifying key/value property\n"
     ]
    }
   ],
   "source": [
    "! hive -f query.hql"
   ]
  },
  {
   "cell_type": "code",
   "execution_count": null,
   "metadata": {},
   "outputs": [],
   "source": []
  },
  {
   "cell_type": "code",
   "execution_count": null,
   "metadata": {},
   "outputs": [],
   "source": []
  },
  {
   "cell_type": "code",
   "execution_count": null,
   "metadata": {},
   "outputs": [],
   "source": []
  },
  {
   "cell_type": "code",
   "execution_count": null,
   "metadata": {},
   "outputs": [],
   "source": []
  },
  {
   "cell_type": "code",
   "execution_count": null,
   "metadata": {},
   "outputs": [],
   "source": []
  }
 ],
 "metadata": {
  "kernelspec": {
   "display_name": "Python 2",
   "language": "python",
   "name": "python2"
  },
  "language_info": {
   "codemirror_mode": {
    "name": "ipython",
    "version": 2
   },
   "file_extension": ".py",
   "mimetype": "text/x-python",
   "name": "python",
   "nbconvert_exporter": "python",
   "pygments_lexer": "ipython2",
   "version": "2.7.12"
  }
 },
 "nbformat": 4,
 "nbformat_minor": 2
}
