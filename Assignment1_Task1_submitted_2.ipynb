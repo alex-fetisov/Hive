{
 "cells": [
  {
   "cell_type": "code",
   "execution_count": 49,
   "metadata": {},
   "outputs": [
    {
     "name": "stdout",
     "output_type": "stream",
     "text": [
      "Overwriting query1.hql\n"
     ]
    }
   ],
   "source": [
    "%%writefile query1.hql\n",
    "\n",
    "USE stackoverflow_;\n",
    "\n",
    "DROP TABLE if exists posts_sample_external; \n",
    "\n",
    "CREATE EXTERNAL TABLE posts_sample_external \n",
    "(row_id string,\n",
    "post_type_id string,\n",
    "year string,\n",
    "month string)\n",
    "ROW FORMAT \n",
    "SERDE 'org.apache.hadoop.hive.serde2.RegexSerDe' \n",
    "WITH SERDEPROPERTIES (\n",
    "    \"input.regex\" = \".*?(?=.*\\\\bId=\\\"(\\\\d+)\\\")(?=.*\\\\bPostTypeId=\\\"(\\\\d+)\\\")(?=.*\\\\bCreationDate=\\\"(\\\\d+)-(\\\\d+)).*\"\n",
    ")\n",
    "LOCATION '/data/stackexchange1000/posts';"
   ]
  },
  {
   "cell_type": "code",
   "execution_count": 50,
   "metadata": {},
   "outputs": [
    {
     "name": "stdout",
     "output_type": "stream",
     "text": [
      "Overwriting query2.hql\n"
     ]
    }
   ],
   "source": [
    "%%writefile query2.hql\n",
    "\n",
    "USE stackoverflow_;\n",
    "\n",
    "DROP TABLE if exists posts_sample; \n",
    "\n",
    "CREATE TABLE posts_sample \n",
    "(count int) \n",
    "PARTITIONED BY (year string, month string)\n",
    "ROW FORMAT DELIMITED\n",
    "FIELDS TERMINATED BY '\\t';"
   ]
  },
  {
   "cell_type": "code",
   "execution_count": 51,
   "metadata": {},
   "outputs": [
    {
     "name": "stdout",
     "output_type": "stream",
     "text": [
      "Overwriting query3.hql\n"
     ]
    }
   ],
   "source": [
    "%%writefile query3.hql\n",
    "\n",
    "SET hive.exec.dynamic.partition=true;\n",
    "SET hive.exec.dynamic.partition.mode=nonstrict;\n",
    "SET hive.exec.max.dynamic.partitions=2000;\n",
    "SET hive.exec.max.dynamic.partitions.pernode=1000;\n",
    "SET hive.exec.max.created.files=10000;\n",
    "SET hive.error.on.empty.partition=true;\n",
    "\n",
    "USE stackoverflow_;\n",
    "\n",
    "FROM posts_sample_external\n",
    "INSERT OVERWRITE TABLE posts_sample\n",
    "PARTITION (year, month)\n",
    "SELECT count(*) as count, year, concat(year,\"-\",month) as month\n",
    "WHERE year IS NOT NULL\n",
    "GROUP BY year, concat(year,\"-\",month);"
   ]
  },
  {
   "cell_type": "code",
   "execution_count": 52,
   "metadata": {},
   "outputs": [
    {
     "name": "stdout",
     "output_type": "stream",
     "text": [
      "Overwriting final_query.hql\n"
     ]
    }
   ],
   "source": [
    "%%writefile final_query.hql\n",
    "\n",
    "USE stackoverflow_;\n",
    "\n",
    "SELECT final_table.year, final_table.month, final_table.count \n",
    "FROM (\n",
    "    SELECT ROW_NUMBER() OVER(ORDER BY year, month ASC) AS row_id, year, month, count\n",
    "    FROM posts_sample\n",
    ") final_table\n",
    "WHERE final_table.row_id=3;"
   ]
  },
  {
   "cell_type": "code",
   "execution_count": 53,
   "metadata": {},
   "outputs": [
    {
     "name": "stdout",
     "output_type": "stream",
     "text": [
      "\n",
      "Logging initialized using configuration in jar:file:/usr/local/apache-hive-1.1.0-bin/lib/hive-common-1.1.0.jar!/hive-log4j.properties\n",
      "OK\n",
      "Time taken: 1.124 seconds\n",
      "OK\n",
      "Time taken: 1.657 seconds\n",
      "OK\n",
      "Time taken: 0.597 seconds\n"
     ]
    }
   ],
   "source": [
    "! hive -f query1.hql"
   ]
  },
  {
   "cell_type": "code",
   "execution_count": 54,
   "metadata": {},
   "outputs": [
    {
     "name": "stdout",
     "output_type": "stream",
     "text": [
      "\n",
      "Logging initialized using configuration in jar:file:/usr/local/apache-hive-1.1.0-bin/lib/hive-common-1.1.0.jar!/hive-log4j.properties\n",
      "OK\n",
      "Time taken: 1.117 seconds\n",
      "OK\n",
      "Time taken: 5.036 seconds\n",
      "OK\n",
      "Time taken: 0.745 seconds\n"
     ]
    }
   ],
   "source": [
    "! hive -f query2.hql"
   ]
  },
  {
   "cell_type": "code",
   "execution_count": 55,
   "metadata": {},
   "outputs": [
    {
     "name": "stdout",
     "output_type": "stream",
     "text": [
      "\n",
      "Logging initialized using configuration in jar:file:/usr/local/apache-hive-1.1.0-bin/lib/hive-common-1.1.0.jar!/hive-log4j.properties\n",
      "OK\n",
      "Time taken: 1.229 seconds\n",
      "Query ID = jovyan_20180515121616_c41f6824-3cb8-43a6-870d-97def8ee30e6\n",
      "Total jobs = 1\n",
      "Launching Job 1 out of 1\n",
      "Number of reduce tasks not specified. Estimated from input data size: 1\n",
      "In order to change the average load for a reducer (in bytes):\n",
      "  set hive.exec.reducers.bytes.per.reducer=<number>\n",
      "In order to limit the maximum number of reducers:\n",
      "  set hive.exec.reducers.max=<number>\n",
      "In order to set a constant number of reducers:\n",
      "  set mapreduce.job.reduces=<number>\n",
      "Starting Job = job_1526339522385_0011, Tracking URL = http://e42372799f14:8088/proxy/application_1526339522385_0011/\n",
      "Kill Command = /opt/hadoop/bin/hadoop job  -kill job_1526339522385_0011\n",
      "Hadoop job information for Stage-1: number of mappers: 1; number of reducers: 1\n",
      "2018-05-15 12:16:58,453 Stage-1 map = 0%,  reduce = 0%\n",
      "2018-05-15 12:17:17,003 Stage-1 map = 36%,  reduce = 0%, Cumulative CPU 18.74 sec\n",
      "2018-05-15 12:17:22,370 Stage-1 map = 60%,  reduce = 0%, Cumulative CPU 25.47 sec\n",
      "2018-05-15 12:17:24,491 Stage-1 map = 100%,  reduce = 0%, Cumulative CPU 27.29 sec\n",
      "2018-05-15 12:17:41,589 Stage-1 map = 100%,  reduce = 100%, Cumulative CPU 36.48 sec\n",
      "MapReduce Total cumulative CPU time: 36 seconds 480 msec\n",
      "Ended Job = job_1526339522385_0011\n",
      "Loading data to table stackoverflow_.posts_sample partition (year=null, month=null)\n",
      "\t Time taken for load dynamic partitions : 13625\n",
      "\tLoading partition {year=2008, month=2008-08}\n",
      "\tLoading partition {year=2015, month=2015-08}\n",
      "\tLoading partition {year=2014, month=2014-09}\n",
      "\tLoading partition {year=2011, month=2011-06}\n",
      "\tLoading partition {year=2016, month=2016-10}\n",
      "\tLoading partition {year=2009, month=2009-01}\n",
      "\tLoading partition {year=2012, month=2012-05}\n",
      "\tLoading partition {year=2015, month=2015-11}\n",
      "\tLoading partition {year=2016, month=2016-01}\n",
      "\tLoading partition {year=2008, month=2008-11}\n",
      "\tLoading partition {year=2015, month=2015-02}\n",
      "\tLoading partition {year=2014, month=2014-12}\n",
      "\tLoading partition {year=2013, month=2013-04}\n",
      "\tLoading partition {year=2014, month=2014-03}\n",
      "\tLoading partition {year=2012, month=2012-04}\n",
      "\tLoading partition {year=2013, month=2013-09}\n",
      "\tLoading partition {year=2009, month=2009-10}\n",
      "\tLoading partition {year=2010, month=2010-07}\n",
      "\tLoading partition {year=2015, month=2015-01}\n",
      "\tLoading partition {year=2014, month=2014-02}\n",
      "\tLoading partition {year=2010, month=2010-06}\n",
      "\tLoading partition {year=2009, month=2009-11}\n",
      "\tLoading partition {year=2013, month=2013-03}\n",
      "\tLoading partition {year=2016, month=2016-11}\n",
      "\tLoading partition {year=2010, month=2010-01}\n",
      "\tLoading partition {year=2008, month=2008-12}\n",
      "\tLoading partition {year=2015, month=2015-12}\n",
      "\tLoading partition {year=2011, month=2011-05}\n",
      "\tLoading partition {year=2010, month=2010-08}\n",
      "\tLoading partition {year=2010, month=2010-05}\n",
      "\tLoading partition {year=2012, month=2012-06}\n",
      "\tLoading partition {year=2008, month=2008-10}\n",
      "\tLoading partition {year=2015, month=2015-10}\n",
      "\tLoading partition {year=2012, month=2012-12}\n",
      "\tLoading partition {year=2015, month=2015-04}\n",
      "\tLoading partition {year=2015, month=2015-07}\n",
      "\tLoading partition {year=2012, month=2012-03}\n",
      "\tLoading partition {year=2009, month=2009-09}\n",
      "\tLoading partition {year=2016, month=2016-09}\n",
      "\tLoading partition {year=2010, month=2010-11}\n",
      "\tLoading partition {year=2011, month=2011-01}\n",
      "\tLoading partition {year=2012, month=2012-01}\n",
      "\tLoading partition {year=2008, month=2008-09}\n",
      "\tLoading partition {year=2015, month=2015-09}\n",
      "\tLoading partition {year=2014, month=2014-10}\n",
      "\tLoading partition {year=2013, month=2013-06}\n",
      "\tLoading partition {year=2010, month=2010-03}\n",
      "\tLoading partition {year=2011, month=2011-03}\n",
      "\tLoading partition {year=2009, month=2009-07}\n",
      "\tLoading partition {year=2016, month=2016-07}\n",
      "\tLoading partition {year=2013, month=2013-12}\n",
      "\tLoading partition {year=2014, month=2014-04}\n",
      "\tLoading partition {year=2011, month=2011-08}\n",
      "\tLoading partition {year=2009, month=2009-02}\n",
      "\tLoading partition {year=2016, month=2016-02}\n",
      "\tLoading partition {year=2013, month=2013-07}\n",
      "\tLoading partition {year=2012, month=2012-11}\n",
      "\tLoading partition {year=2013, month=2013-01}\n",
      "\tLoading partition {year=2013, month=2013-10}\n",
      "\tLoading partition {year=2014, month=2014-06}\n",
      "\tLoading partition {year=2015, month=2015-05}\n",
      "\tLoading partition {year=2012, month=2012-02}\n",
      "\tLoading partition {year=2011, month=2011-12}\n",
      "\tLoading partition {year=2016, month=2016-04}\n",
      "\tLoading partition {year=2009, month=2009-04}\n",
      "\tLoading partition {year=2011, month=2011-09}\n",
      "\tLoading partition {year=2012, month=2012-08}\n",
      "\tLoading partition {year=2011, month=2011-11}\n",
      "\tLoading partition {year=2015, month=2015-06}\n",
      "\tLoading partition {year=2009, month=2009-05}\n",
      "\tLoading partition {year=2016, month=2016-05}\n",
      "\tLoading partition {year=2010, month=2010-12}\n",
      "\tLoading partition {year=2014, month=2014-01}\n",
      "\tLoading partition {year=2013, month=2013-08}\n",
      "\tLoading partition {year=2012, month=2012-09}\n",
      "\tLoading partition {year=2014, month=2014-07}\n",
      "\tLoading partition {year=2012, month=2012-10}\n",
      "\tLoading partition {year=2009, month=2009-12}\n",
      "\tLoading partition {year=2016, month=2016-12}\n",
      "\tLoading partition {year=2010, month=2010-02}\n",
      "\tLoading partition {year=2011, month=2011-04}\n",
      "\tLoading partition {year=2009, month=2009-03}\n",
      "\tLoading partition {year=2016, month=2016-03}\n",
      "\tLoading partition {year=2011, month=2011-07}\n",
      "\tLoading partition {year=2013, month=2013-02}\n",
      "\tLoading partition {year=2014, month=2014-08}\n",
      "\tLoading partition {year=2016, month=2016-06}\n",
      "\tLoading partition {year=2011, month=2011-10}\n",
      "\tLoading partition {year=2009, month=2009-06}\n",
      "\tLoading partition {year=2015, month=2015-03}\n",
      "\tLoading partition {year=2011, month=2011-02}\n",
      "\tLoading partition {year=2012, month=2012-07}\n",
      "\tLoading partition {year=2013, month=2013-11}\n",
      "\tLoading partition {year=2010, month=2010-04}\n",
      "\tLoading partition {year=2009, month=2009-08}\n",
      "\tLoading partition {year=2016, month=2016-08}\n",
      "\tLoading partition {year=2014, month=2014-05}\n",
      "\tLoading partition {year=2010, month=2010-10}\n",
      "\tLoading partition {year=2013, month=2013-05}\n",
      "\tLoading partition {year=2014, month=2014-11}\n",
      "\tLoading partition {year=2010, month=2010-09}\n",
      "\t Time taken for adding to write entity : 24\n",
      "Partition stackoverflow_.posts_sample{year=2008, month=2008-08} stats: [numFiles=1, numRows=1, totalSize=3, rawDataSize=2]\n",
      "Partition stackoverflow_.posts_sample{year=2008, month=2008-09} stats: [numFiles=1, numRows=1, totalSize=3, rawDataSize=2]\n",
      "Partition stackoverflow_.posts_sample{year=2008, month=2008-10} stats: [numFiles=1, numRows=1, totalSize=3, rawDataSize=2]\n",
      "Partition stackoverflow_.posts_sample{year=2008, month=2008-11} stats: [numFiles=1, numRows=1, totalSize=3, rawDataSize=2]\n",
      "Partition stackoverflow_.posts_sample{year=2008, month=2008-12} stats: [numFiles=1, numRows=1, totalSize=3, rawDataSize=2]\n",
      "Partition stackoverflow_.posts_sample{year=2009, month=2009-01} stats: [numFiles=1, numRows=1, totalSize=3, rawDataSize=2]\n",
      "Partition stackoverflow_.posts_sample{year=2009, month=2009-02} stats: [numFiles=1, numRows=1, totalSize=3, rawDataSize=2]\n",
      "Partition stackoverflow_.posts_sample{year=2009, month=2009-03} stats: [numFiles=1, numRows=1, totalSize=3, rawDataSize=2]\n",
      "Partition stackoverflow_.posts_sample{year=2009, month=2009-04} stats: [numFiles=1, numRows=1, totalSize=3, rawDataSize=2]\n",
      "Partition stackoverflow_.posts_sample{year=2009, month=2009-05} stats: [numFiles=1, numRows=1, totalSize=4, rawDataSize=3]\n",
      "Partition stackoverflow_.posts_sample{year=2009, month=2009-06} stats: [numFiles=1, numRows=1, totalSize=4, rawDataSize=3]\n",
      "Partition stackoverflow_.posts_sample{year=2009, month=2009-07} stats: [numFiles=1, numRows=1, totalSize=4, rawDataSize=3]\n",
      "Partition stackoverflow_.posts_sample{year=2009, month=2009-08} stats: [numFiles=1, numRows=1, totalSize=4, rawDataSize=3]\n",
      "Partition stackoverflow_.posts_sample{year=2009, month=2009-09} stats: [numFiles=1, numRows=1, totalSize=4, rawDataSize=3]\n",
      "Partition stackoverflow_.posts_sample{year=2009, month=2009-10} stats: [numFiles=1, numRows=1, totalSize=4, rawDataSize=3]\n",
      "Partition stackoverflow_.posts_sample{year=2009, month=2009-11} stats: [numFiles=1, numRows=1, totalSize=4, rawDataSize=3]\n",
      "Partition stackoverflow_.posts_sample{year=2009, month=2009-12} stats: [numFiles=1, numRows=1, totalSize=4, rawDataSize=3]\n",
      "Partition stackoverflow_.posts_sample{year=2010, month=2010-01} stats: [numFiles=1, numRows=1, totalSize=4, rawDataSize=3]\n",
      "Partition stackoverflow_.posts_sample{year=2010, month=2010-02} stats: [numFiles=1, numRows=1, totalSize=4, rawDataSize=3]\n",
      "Partition stackoverflow_.posts_sample{year=2010, month=2010-03} stats: [numFiles=1, numRows=1, totalSize=4, rawDataSize=3]\n",
      "Partition stackoverflow_.posts_sample{year=2010, month=2010-04} stats: [numFiles=1, numRows=1, totalSize=4, rawDataSize=3]\n",
      "Partition stackoverflow_.posts_sample{year=2010, month=2010-05} stats: [numFiles=1, numRows=1, totalSize=4, rawDataSize=3]\n"
     ]
    },
    {
     "name": "stdout",
     "output_type": "stream",
     "text": [
      "Partition stackoverflow_.posts_sample{year=2010, month=2010-06} stats: [numFiles=1, numRows=1, totalSize=4, rawDataSize=3]\n",
      "Partition stackoverflow_.posts_sample{year=2010, month=2010-07} stats: [numFiles=1, numRows=1, totalSize=4, rawDataSize=3]\n",
      "Partition stackoverflow_.posts_sample{year=2010, month=2010-08} stats: [numFiles=1, numRows=1, totalSize=4, rawDataSize=3]\n",
      "Partition stackoverflow_.posts_sample{year=2010, month=2010-09} stats: [numFiles=1, numRows=1, totalSize=4, rawDataSize=3]\n",
      "Partition stackoverflow_.posts_sample{year=2010, month=2010-10} stats: [numFiles=1, numRows=1, totalSize=4, rawDataSize=3]\n",
      "Partition stackoverflow_.posts_sample{year=2010, month=2010-11} stats: [numFiles=1, numRows=1, totalSize=4, rawDataSize=3]\n",
      "Partition stackoverflow_.posts_sample{year=2010, month=2010-12} stats: [numFiles=1, numRows=1, totalSize=4, rawDataSize=3]\n",
      "Partition stackoverflow_.posts_sample{year=2011, month=2011-01} stats: [numFiles=1, numRows=1, totalSize=4, rawDataSize=3]\n",
      "Partition stackoverflow_.posts_sample{year=2011, month=2011-02} stats: [numFiles=1, numRows=1, totalSize=4, rawDataSize=3]\n",
      "Partition stackoverflow_.posts_sample{year=2011, month=2011-03} stats: [numFiles=1, numRows=1, totalSize=4, rawDataSize=3]\n",
      "Partition stackoverflow_.posts_sample{year=2011, month=2011-04} stats: [numFiles=1, numRows=1, totalSize=4, rawDataSize=3]\n",
      "Partition stackoverflow_.posts_sample{year=2011, month=2011-05} stats: [numFiles=1, numRows=1, totalSize=4, rawDataSize=3]\n",
      "Partition stackoverflow_.posts_sample{year=2011, month=2011-06} stats: [numFiles=1, numRows=1, totalSize=4, rawDataSize=3]\n",
      "Partition stackoverflow_.posts_sample{year=2011, month=2011-07} stats: [numFiles=1, numRows=1, totalSize=4, rawDataSize=3]\n",
      "Partition stackoverflow_.posts_sample{year=2011, month=2011-08} stats: [numFiles=1, numRows=1, totalSize=4, rawDataSize=3]\n",
      "Partition stackoverflow_.posts_sample{year=2011, month=2011-09} stats: [numFiles=1, numRows=1, totalSize=4, rawDataSize=3]\n",
      "Partition stackoverflow_.posts_sample{year=2011, month=2011-10} stats: [numFiles=1, numRows=1, totalSize=4, rawDataSize=3]\n",
      "Partition stackoverflow_.posts_sample{year=2011, month=2011-11} stats: [numFiles=1, numRows=1, totalSize=4, rawDataSize=3]\n",
      "Partition stackoverflow_.posts_sample{year=2011, month=2011-12} stats: [numFiles=1, numRows=1, totalSize=4, rawDataSize=3]\n",
      "Partition stackoverflow_.posts_sample{year=2012, month=2012-01} stats: [numFiles=1, numRows=1, totalSize=4, rawDataSize=3]\n",
      "Partition stackoverflow_.posts_sample{year=2012, month=2012-02} stats: [numFiles=1, numRows=1, totalSize=4, rawDataSize=3]\n",
      "Partition stackoverflow_.posts_sample{year=2012, month=2012-03} stats: [numFiles=1, numRows=1, totalSize=4, rawDataSize=3]\n",
      "Partition stackoverflow_.posts_sample{year=2012, month=2012-04} stats: [numFiles=1, numRows=1, totalSize=4, rawDataSize=3]\n",
      "Partition stackoverflow_.posts_sample{year=2012, month=2012-05} stats: [numFiles=1, numRows=1, totalSize=4, rawDataSize=3]\n",
      "Partition stackoverflow_.posts_sample{year=2012, month=2012-06} stats: [numFiles=1, numRows=1, totalSize=4, rawDataSize=3]\n",
      "Partition stackoverflow_.posts_sample{year=2012, month=2012-07} stats: [numFiles=1, numRows=1, totalSize=4, rawDataSize=3]\n",
      "Partition stackoverflow_.posts_sample{year=2012, month=2012-08} stats: [numFiles=1, numRows=1, totalSize=4, rawDataSize=3]\n",
      "Partition stackoverflow_.posts_sample{year=2012, month=2012-09} stats: [numFiles=1, numRows=1, totalSize=4, rawDataSize=3]\n",
      "Partition stackoverflow_.posts_sample{year=2012, month=2012-10} stats: [numFiles=1, numRows=1, totalSize=4, rawDataSize=3]\n",
      "Partition stackoverflow_.posts_sample{year=2012, month=2012-11} stats: [numFiles=1, numRows=1, totalSize=4, rawDataSize=3]\n",
      "Partition stackoverflow_.posts_sample{year=2012, month=2012-12} stats: [numFiles=1, numRows=1, totalSize=4, rawDataSize=3]\n",
      "Partition stackoverflow_.posts_sample{year=2013, month=2013-01} stats: [numFiles=1, numRows=1, totalSize=4, rawDataSize=3]\n",
      "Partition stackoverflow_.posts_sample{year=2013, month=2013-02} stats: [numFiles=1, numRows=1, totalSize=4, rawDataSize=3]\n",
      "Partition stackoverflow_.posts_sample{year=2013, month=2013-03} stats: [numFiles=1, numRows=1, totalSize=4, rawDataSize=3]\n",
      "Partition stackoverflow_.posts_sample{year=2013, month=2013-04} stats: [numFiles=1, numRows=1, totalSize=4, rawDataSize=3]\n",
      "Partition stackoverflow_.posts_sample{year=2013, month=2013-05} stats: [numFiles=1, numRows=1, totalSize=4, rawDataSize=3]\n",
      "Partition stackoverflow_.posts_sample{year=2013, month=2013-06} stats: [numFiles=1, numRows=1, totalSize=4, rawDataSize=3]\n",
      "Partition stackoverflow_.posts_sample{year=2013, month=2013-07} stats: [numFiles=1, numRows=1, totalSize=4, rawDataSize=3]\n",
      "Partition stackoverflow_.posts_sample{year=2013, month=2013-08} stats: [numFiles=1, numRows=1, totalSize=4, rawDataSize=3]\n",
      "Partition stackoverflow_.posts_sample{year=2013, month=2013-09} stats: [numFiles=1, numRows=1, totalSize=4, rawDataSize=3]\n",
      "Partition stackoverflow_.posts_sample{year=2013, month=2013-10} stats: [numFiles=1, numRows=1, totalSize=4, rawDataSize=3]\n",
      "Partition stackoverflow_.posts_sample{year=2013, month=2013-11} stats: [numFiles=1, numRows=1, totalSize=4, rawDataSize=3]\n",
      "Partition stackoverflow_.posts_sample{year=2013, month=2013-12} stats: [numFiles=1, numRows=1, totalSize=4, rawDataSize=3]\n",
      "Partition stackoverflow_.posts_sample{year=2014, month=2014-01} stats: [numFiles=1, numRows=1, totalSize=4, rawDataSize=3]\n",
      "Partition stackoverflow_.posts_sample{year=2014, month=2014-02} stats: [numFiles=1, numRows=1, totalSize=4, rawDataSize=3]\n",
      "Partition stackoverflow_.posts_sample{year=2014, month=2014-03} stats: [numFiles=1, numRows=1, totalSize=4, rawDataSize=3]\n",
      "Partition stackoverflow_.posts_sample{year=2014, month=2014-04} stats: [numFiles=1, numRows=1, totalSize=4, rawDataSize=3]\n",
      "Partition stackoverflow_.posts_sample{year=2014, month=2014-05} stats: [numFiles=1, numRows=1, totalSize=4, rawDataSize=3]\n",
      "Partition stackoverflow_.posts_sample{year=2014, month=2014-06} stats: [numFiles=1, numRows=1, totalSize=4, rawDataSize=3]\n",
      "Partition stackoverflow_.posts_sample{year=2014, month=2014-07} stats: [numFiles=1, numRows=1, totalSize=4, rawDataSize=3]\n",
      "Partition stackoverflow_.posts_sample{year=2014, month=2014-08} stats: [numFiles=1, numRows=1, totalSize=4, rawDataSize=3]\n",
      "Partition stackoverflow_.posts_sample{year=2014, month=2014-09} stats: [numFiles=1, numRows=1, totalSize=4, rawDataSize=3]\n",
      "Partition stackoverflow_.posts_sample{year=2014, month=2014-10} stats: [numFiles=1, numRows=1, totalSize=4, rawDataSize=3]\n",
      "Partition stackoverflow_.posts_sample{year=2014, month=2014-11} stats: [numFiles=1, numRows=1, totalSize=4, rawDataSize=3]\n",
      "Partition stackoverflow_.posts_sample{year=2014, month=2014-12} stats: [numFiles=1, numRows=1, totalSize=4, rawDataSize=3]\n",
      "Partition stackoverflow_.posts_sample{year=2015, month=2015-01} stats: [numFiles=1, numRows=1, totalSize=4, rawDataSize=3]\n",
      "Partition stackoverflow_.posts_sample{year=2015, month=2015-02} stats: [numFiles=1, numRows=1, totalSize=4, rawDataSize=3]\n",
      "Partition stackoverflow_.posts_sample{year=2015, month=2015-03} stats: [numFiles=1, numRows=1, totalSize=4, rawDataSize=3]\n",
      "Partition stackoverflow_.posts_sample{year=2015, month=2015-04} stats: [numFiles=1, numRows=1, totalSize=4, rawDataSize=3]\n",
      "Partition stackoverflow_.posts_sample{year=2015, month=2015-05} stats: [numFiles=1, numRows=1, totalSize=4, rawDataSize=3]\n",
      "Partition stackoverflow_.posts_sample{year=2015, month=2015-06} stats: [numFiles=1, numRows=1, totalSize=4, rawDataSize=3]\n",
      "Partition stackoverflow_.posts_sample{year=2015, month=2015-07} stats: [numFiles=1, numRows=1, totalSize=4, rawDataSize=3]\n",
      "Partition stackoverflow_.posts_sample{year=2015, month=2015-08} stats: [numFiles=1, numRows=1, totalSize=4, rawDataSize=3]\n",
      "Partition stackoverflow_.posts_sample{year=2015, month=2015-09} stats: [numFiles=1, numRows=1, totalSize=4, rawDataSize=3]\n",
      "Partition stackoverflow_.posts_sample{year=2015, month=2015-10} stats: [numFiles=1, numRows=1, totalSize=4, rawDataSize=3]\n",
      "Partition stackoverflow_.posts_sample{year=2015, month=2015-11} stats: [numFiles=1, numRows=1, totalSize=4, rawDataSize=3]\n",
      "Partition stackoverflow_.posts_sample{year=2015, month=2015-12} stats: [numFiles=1, numRows=1, totalSize=4, rawDataSize=3]\n",
      "Partition stackoverflow_.posts_sample{year=2016, month=2016-01} stats: [numFiles=1, numRows=1, totalSize=4, rawDataSize=3]\n",
      "Partition stackoverflow_.posts_sample{year=2016, month=2016-02} stats: [numFiles=1, numRows=1, totalSize=4, rawDataSize=3]\n",
      "Partition stackoverflow_.posts_sample{year=2016, month=2016-03} stats: [numFiles=1, numRows=1, totalSize=4, rawDataSize=3]\n",
      "Partition stackoverflow_.posts_sample{year=2016, month=2016-04} stats: [numFiles=1, numRows=1, totalSize=4, rawDataSize=3]\n",
      "Partition stackoverflow_.posts_sample{year=2016, month=2016-05} stats: [numFiles=1, numRows=1, totalSize=4, rawDataSize=3]\n",
      "Partition stackoverflow_.posts_sample{year=2016, month=2016-06} stats: [numFiles=1, numRows=1, totalSize=4, rawDataSize=3]\n",
      "Partition stackoverflow_.posts_sample{year=2016, month=2016-07} stats: [numFiles=1, numRows=1, totalSize=4, rawDataSize=3]\n",
      "Partition stackoverflow_.posts_sample{year=2016, month=2016-08} stats: [numFiles=1, numRows=1, totalSize=4, rawDataSize=3]\n",
      "Partition stackoverflow_.posts_sample{year=2016, month=2016-09} stats: [numFiles=1, numRows=1, totalSize=4, rawDataSize=3]\n",
      "Partition stackoverflow_.posts_sample{year=2016, month=2016-10} stats: [numFiles=1, numRows=1, totalSize=4, rawDataSize=3]\n",
      "Partition stackoverflow_.posts_sample{year=2016, month=2016-11} stats: [numFiles=1, numRows=1, totalSize=4, rawDataSize=3]\n",
      "Partition stackoverflow_.posts_sample{year=2016, month=2016-12} stats: [numFiles=1, numRows=1, totalSize=4, rawDataSize=3]\n"
     ]
    },
    {
     "name": "stdout",
     "output_type": "stream",
     "text": [
      "MapReduce Jobs Launched: \r\n",
      "Stage-Stage-1: Map: 1  Reduce: 1   Cumulative CPU: 36.48 sec   HDFS Read: 60007726 HDFS Write: 7502 SUCCESS\r\n",
      "Total MapReduce CPU Time Spent: 36 seconds 480 msec\r\n",
      "OK\r\n",
      "Time taken: 82.23 seconds\r\n"
     ]
    }
   ],
   "source": [
    "! hive -f query3.hql"
   ]
  },
  {
   "cell_type": "code",
   "execution_count": 56,
   "metadata": {},
   "outputs": [
    {
     "name": "stdout",
     "output_type": "stream",
     "text": [
      "\n",
      "Logging initialized using configuration in jar:file:/usr/local/apache-hive-1.1.0-bin/lib/hive-common-1.1.0.jar!/hive-log4j.properties\n",
      "OK\n",
      "Time taken: 1.13 seconds\n",
      "Query ID = jovyan_20180515121818_fb71fbe6-abb2-4eed-b609-d48d0d38ebd8\n",
      "Total jobs = 1\n",
      "Launching Job 1 out of 1\n",
      "Number of reduce tasks not specified. Estimated from input data size: 1\n",
      "In order to change the average load for a reducer (in bytes):\n",
      "  set hive.exec.reducers.bytes.per.reducer=<number>\n",
      "In order to limit the maximum number of reducers:\n",
      "  set hive.exec.reducers.max=<number>\n",
      "In order to set a constant number of reducers:\n",
      "  set mapreduce.job.reduces=<number>\n",
      "Starting Job = job_1526339522385_0012, Tracking URL = http://e42372799f14:8088/proxy/application_1526339522385_0012/\n",
      "Kill Command = /opt/hadoop/bin/hadoop job  -kill job_1526339522385_0012\n",
      "Hadoop job information for Stage-1: number of mappers: 1; number of reducers: 1\n",
      "2018-05-15 12:18:34,054 Stage-1 map = 0%,  reduce = 0%\n",
      "2018-05-15 12:18:41,826 Stage-1 map = 100%,  reduce = 0%, Cumulative CPU 4.58 sec\n",
      "2018-05-15 12:18:51,770 Stage-1 map = 100%,  reduce = 100%, Cumulative CPU 11.03 sec\n",
      "MapReduce Total cumulative CPU time: 11 seconds 30 msec\n",
      "Ended Job = job_1526339522385_0012\n",
      "MapReduce Jobs Launched: \n",
      "Stage-Stage-1: Map: 1  Reduce: 1   Cumulative CPU: 11.03 sec   HDFS Read: 49543 HDFS Write: 16 SUCCESS\n",
      "Total MapReduce CPU Time Spent: 11 seconds 30 msec\n",
      "OK\n",
      "2008\t2008-10\t73\n",
      "Time taken: 36.492 seconds, Fetched: 1 row(s)\n"
     ]
    }
   ],
   "source": [
    "! hive -f final_query.hql"
   ]
  },
  {
   "cell_type": "code",
   "execution_count": null,
   "metadata": {},
   "outputs": [],
   "source": []
  }
 ],
 "metadata": {
  "kernelspec": {
   "display_name": "Python 2",
   "language": "python",
   "name": "python2"
  },
  "language_info": {
   "codemirror_mode": {
    "name": "ipython",
    "version": 2
   },
   "file_extension": ".py",
   "mimetype": "text/x-python",
   "name": "python",
   "nbconvert_exporter": "python",
   "pygments_lexer": "ipython2",
   "version": "2.7.12"
  }
 },
 "nbformat": 4,
 "nbformat_minor": 2
}
