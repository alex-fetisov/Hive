{
 "cells": [
  {
   "cell_type": "markdown",
   "metadata": {},
   "source": [
    "<H3>Parse data from HDFS location '/data/stackexchange1000/posts' into table posts_sample_external using the regex expression</H3>"
   ]
  },
  {
   "cell_type": "code",
   "execution_count": 60,
   "metadata": {},
   "outputs": [
    {
     "name": "stdout",
     "output_type": "stream",
     "text": [
      "Overwriting query.hql\n"
     ]
    }
   ],
   "source": [
    "%%writefile query.hql\n",
    "\n",
    "ADD JAR /opt/cloudera/parcels/CDH/lib/hive/lib/hive-contrib.jar;\n",
    "ADD JAR /opt/cloudera/parcels/CDH/lib/hive/lib/hive-serde.jar;\n",
    "\n",
    "USE stackoverflow_;\n",
    "\n",
    "DROP TABLE if exists posts_sample_external; \n",
    "\n",
    "CREATE EXTERNAL TABLE posts_sample_external \n",
    "(row_id string,\n",
    "post_type_id string,\n",
    "year string,\n",
    "month string)\n",
    "ROW FORMAT \n",
    "SERDE 'org.apache.hadoop.hive.serde2.RegexSerDe' \n",
    "WITH SERDEPROPERTIES (\n",
    "    \"input.regex\" = \".*?(?=.*\\\\bId=\\\"(\\\\d+)\\\")(?=.*\\\\bPostTypeId=\\\"(\\\\d+)\\\")(?=.*\\\\bCreationDate=\\\"(\\\\d+)-(\\\\d+)).*$\"\n",
    ")\n",
    "LOCATION '/data/stackexchange1000/posts';"
   ]
  },
  {
   "cell_type": "markdown",
   "metadata": {},
   "source": [
    "<h3> Create the table posts_sample partitioned by year and month within HDFS location '/user/jovyan/af_store/' </h3>"
   ]
  },
  {
   "cell_type": "code",
   "execution_count": 61,
   "metadata": {},
   "outputs": [
    {
     "name": "stdout",
     "output_type": "stream",
     "text": [
      "Overwriting query2.hql\n"
     ]
    }
   ],
   "source": [
    "%%writefile query2.hql\n",
    "\n",
    "USE stackoverflow_;\n",
    "\n",
    "DROP TABLE if exists posts_sample; \n",
    "\n",
    "CREATE TABLE posts_sample \n",
    "(count int) \n",
    "PARTITIONED BY (year string, month string) \n",
    "LOCATION '/user/jovyan/af_store/';"
   ]
  },
  {
   "cell_type": "markdown",
   "metadata": {},
   "source": [
    "<h3> Populate 'posts_sample' table with data from 'posts_sample_external' table </h3>"
   ]
  },
  {
   "cell_type": "code",
   "execution_count": 62,
   "metadata": {},
   "outputs": [
    {
     "name": "stdout",
     "output_type": "stream",
     "text": [
      "Overwriting query3.hql\n"
     ]
    }
   ],
   "source": [
    "%%writefile query3.hql\n",
    "\n",
    "set hive.exec.dynamic.partition.mode=nonstrict;\n",
    "\n",
    "USE stackoverflow_;\n",
    "\n",
    "FROM posts_sample_external\n",
    "INSERT OVERWRITE TABLE posts_sample\n",
    "PARTITION (year, month)\n",
    "SELECT count(*) as count, year, concat(year,\"-\",month) as month\n",
    "WHERE year IS NOT NULL\n",
    "GROUP BY year, month;"
   ]
  },
  {
   "cell_type": "markdown",
   "metadata": {},
   "source": [
    "<h3> Get the line for \"2008-10\"</h3>"
   ]
  },
  {
   "cell_type": "code",
   "execution_count": 72,
   "metadata": {},
   "outputs": [
    {
     "name": "stdout",
     "output_type": "stream",
     "text": [
      "Overwriting query4.hql\n"
     ]
    }
   ],
   "source": [
    "%%writefile query4.hql\n",
    "USE stackoverflow_;\n",
    "SELECT year, month, count FROM posts_sample where month='2008-10';"
   ]
  },
  {
   "cell_type": "code",
   "execution_count": 64,
   "metadata": {},
   "outputs": [
    {
     "name": "stdout",
     "output_type": "stream",
     "text": [
      "\n",
      "Logging initialized using configuration in jar:file:/usr/local/apache-hive-1.1.0-bin/lib/hive-common-1.1.0.jar!/hive-log4j.properties\n",
      "OK\n",
      "Time taken: 1.646 seconds\n",
      "OK\n",
      "Time taken: 0.321 seconds\n",
      "\n",
      "Logging initialized using configuration in jar:file:/usr/local/apache-hive-1.1.0-bin/lib/hive-common-1.1.0.jar!/hive-log4j.properties\n",
      "Added [/opt/cloudera/parcels/CDH/lib/hive/lib/hive-contrib.jar] to class path\n",
      "Added resources: [/opt/cloudera/parcels/CDH/lib/hive/lib/hive-contrib.jar]\n",
      "Added [/opt/cloudera/parcels/CDH/lib/hive/lib/hive-serde.jar] to class path\n",
      "Added resources: [/opt/cloudera/parcels/CDH/lib/hive/lib/hive-serde.jar]\n",
      "OK\n",
      "Time taken: 1.054 seconds\n",
      "OK\n",
      "Time taken: 1.708 seconds\n",
      "OK\n",
      "Time taken: 0.575 seconds\n",
      "\n",
      "Logging initialized using configuration in jar:file:/usr/local/apache-hive-1.1.0-bin/lib/hive-common-1.1.0.jar!/hive-log4j.properties\n",
      "OK\n",
      "Time taken: 1.124 seconds\n",
      "OK\n",
      "Time taken: 4.852 seconds\n",
      "OK\n",
      "Time taken: 0.733 seconds\n",
      "\n",
      "Logging initialized using configuration in jar:file:/usr/local/apache-hive-1.1.0-bin/lib/hive-common-1.1.0.jar!/hive-log4j.properties\n",
      "OK\n",
      "Time taken: 1.103 seconds\n",
      "Query ID = jovyan_20180512042020_e8f58c3b-bc46-447e-ba4c-a24a0fbb4645\n",
      "Total jobs = 1\n",
      "Launching Job 1 out of 1\n",
      "Number of reduce tasks not specified. Estimated from input data size: 1\n",
      "In order to change the average load for a reducer (in bytes):\n",
      "  set hive.exec.reducers.bytes.per.reducer=<number>\n",
      "In order to limit the maximum number of reducers:\n",
      "  set hive.exec.reducers.max=<number>\n",
      "In order to set a constant number of reducers:\n",
      "  set mapreduce.job.reduces=<number>\n",
      "Starting Job = job_1526086425574_0014, Tracking URL = http://fb266a9b2d9d:8088/proxy/application_1526086425574_0014/\n",
      "Kill Command = /opt/hadoop/bin/hadoop job  -kill job_1526086425574_0014\n",
      "Hadoop job information for Stage-1: number of mappers: 1; number of reducers: 1\n",
      "2018-05-12 04:20:51,021 Stage-1 map = 0%,  reduce = 0%\n",
      "2018-05-12 04:21:09,459 Stage-1 map = 35%,  reduce = 0%, Cumulative CPU 18.08 sec\n",
      "2018-05-12 04:21:15,898 Stage-1 map = 58%,  reduce = 0%, Cumulative CPU 24.58 sec\n",
      "2018-05-12 04:21:18,017 Stage-1 map = 100%,  reduce = 0%, Cumulative CPU 27.22 sec\n",
      "2018-05-12 04:21:37,249 Stage-1 map = 100%,  reduce = 100%, Cumulative CPU 35.95 sec\n",
      "MapReduce Total cumulative CPU time: 35 seconds 950 msec\n",
      "Ended Job = job_1526086425574_0014\n",
      "Loading data to table stackoverflow_.posts_sample partition (year=null, month=null)\n",
      "\t Time taken for load dynamic partitions : 14266\n",
      "\tLoading partition {year=2013, month=2013-08}\n",
      "\tLoading partition {year=2012, month=2012-12}\n",
      "\tLoading partition {year=2014, month=2014-01}\n",
      "\tLoading partition {year=2013, month=2013-11}\n",
      "\tLoading partition {year=2013, month=2013-02}\n",
      "\tLoading partition {year=2014, month=2014-07}\n",
      "\tLoading partition {year=2014, month=2014-10}\n",
      "\tLoading partition {year=2012, month=2012-09}\n",
      "\tLoading partition {year=2010, month=2010-05}\n",
      "\tLoading partition {year=2012, month=2012-03}\n",
      "\tLoading partition {year=2011, month=2011-04}\n",
      "\tLoading partition {year=2015, month=2015-01}\n",
      "\tLoading partition {year=2015, month=2015-07}\n",
      "\tLoading partition {year=2011, month=2011-12}\n",
      "\tLoading partition {year=2009, month=2009-06}\n",
      "\tLoading partition {year=2016, month=2016-06}\n",
      "\tLoading partition {year=2013, month=2013-09}\n",
      "\tLoading partition {year=2012, month=2012-11}\n",
      "\tLoading partition {year=2014, month=2014-08}\n",
      "\tLoading partition {year=2012, month=2012-04}\n",
      "\tLoading partition {year=2014, month=2014-02}\n",
      "\tLoading partition {year=2015, month=2015-06}\n",
      "\tLoading partition {year=2013, month=2013-03}\n",
      "\tLoading partition {year=2009, month=2009-05}\n",
      "\tLoading partition {year=2016, month=2016-05}\n",
      "\tLoading partition {year=2010, month=2010-06}\n",
      "\tLoading partition {year=2010, month=2010-09}\n",
      "\tLoading partition {year=2010, month=2010-12}\n",
      "\tLoading partition {year=2011, month=2011-02}\n",
      "\tLoading partition {year=2008, month=2008-08}\n",
      "\tLoading partition {year=2015, month=2015-08}\n",
      "\tLoading partition {year=2014, month=2014-03}\n",
      "\tLoading partition {year=2013, month=2013-07}\n",
      "\tLoading partition {year=2015, month=2015-05}\n",
      "\tLoading partition {year=2008, month=2008-11}\n",
      "\tLoading partition {year=2015, month=2015-11}\n",
      "\tLoading partition {year=2009, month=2009-01}\n",
      "\tLoading partition {year=2016, month=2016-01}\n",
      "\tLoading partition {year=2014, month=2014-11}\n",
      "\tLoading partition {year=2011, month=2011-09}\n",
      "\tLoading partition {year=2012, month=2012-02}\n",
      "\tLoading partition {year=2014, month=2014-05}\n",
      "\tLoading partition {year=2009, month=2009-03}\n",
      "\tLoading partition {year=2016, month=2016-03}\n",
      "\tLoading partition {year=2012, month=2012-07}\n",
      "\tLoading partition {year=2015, month=2015-03}\n",
      "\tLoading partition {year=2009, month=2009-08}\n",
      "\tLoading partition {year=2016, month=2016-08}\n",
      "\tLoading partition {year=2010, month=2010-04}\n",
      "\tLoading partition {year=2010, month=2010-10}\n",
      "\tLoading partition {year=2013, month=2013-05}\n",
      "\tLoading partition {year=2012, month=2012-06}\n",
      "\tLoading partition {year=2014, month=2014-04}\n",
      "\tLoading partition {year=2009, month=2009-12}\n",
      "\tLoading partition {year=2016, month=2016-12}\n",
      "\tLoading partition {year=2010, month=2010-02}\n",
      "\tLoading partition {year=2011, month=2011-07}\n",
      "\tLoading partition {year=2011, month=2011-01}\n",
      "\tLoading partition {year=2010, month=2010-11}\n",
      "\tLoading partition {year=2009, month=2009-09}\n",
      "\tLoading partition {year=2016, month=2016-09}\n",
      "\tLoading partition {year=2011, month=2011-10}\n",
      "\tLoading partition {year=2010, month=2010-08}\n",
      "\tLoading partition {year=2010, month=2010-07}\n",
      "\tLoading partition {year=2013, month=2013-04}\n",
      "\tLoading partition {year=2012, month=2012-05}\n",
      "\tLoading partition {year=2011, month=2011-06}\n",
      "\tLoading partition {year=2011, month=2011-11}\n",
      "\tLoading partition {year=2012, month=2012-10}\n",
      "\tLoading partition {year=2008, month=2008-12}\n",
      "\tLoading partition {year=2015, month=2015-12}\n",
      "\tLoading partition {year=2009, month=2009-11}\n",
      "\tLoading partition {year=2010, month=2010-01}\n",
      "\tLoading partition {year=2016, month=2016-11}\n",
      "\tLoading partition {year=2009, month=2009-10}\n",
      "\tLoading partition {year=2010, month=2010-03}\n",
      "\tLoading partition {year=2016, month=2016-10}\n",
      "\tLoading partition {year=2009, month=2009-04}\n",
      "\tLoading partition {year=2016, month=2016-04}\n",
      "\tLoading partition {year=2011, month=2011-05}\n",
      "\tLoading partition {year=2016, month=2016-07}\n",
      "\tLoading partition {year=2009, month=2009-07}\n",
      "\tLoading partition {year=2013, month=2013-10}\n",
      "\tLoading partition {year=2014, month=2014-06}\n",
      "\tLoading partition {year=2014, month=2014-09}\n",
      "\tLoading partition {year=2014, month=2014-12}\n",
      "\tLoading partition {year=2015, month=2015-02}\n",
      "\tLoading partition {year=2015, month=2015-04}\n",
      "\tLoading partition {year=2012, month=2012-08}\n",
      "\tLoading partition {year=2015, month=2015-10}\n",
      "\tLoading partition {year=2011, month=2011-03}\n",
      "\tLoading partition {year=2008, month=2008-10}\n",
      "\tLoading partition {year=2013, month=2013-01}\n",
      "\tLoading partition {year=2009, month=2009-02}\n",
      "\tLoading partition {year=2016, month=2016-02}\n",
      "\tLoading partition {year=2012, month=2012-01}\n",
      "\tLoading partition {year=2013, month=2013-06}\n",
      "\tLoading partition {year=2011, month=2011-08}\n",
      "\tLoading partition {year=2008, month=2008-09}\n",
      "\tLoading partition {year=2015, month=2015-09}\n",
      "\tLoading partition {year=2013, month=2013-12}\n",
      "\t Time taken for adding to write entity : 26\n",
      "Partition stackoverflow_.posts_sample{year=2008, month=2008-08} stats: [numFiles=1, numRows=1, totalSize=3, rawDataSize=2]\n",
      "Partition stackoverflow_.posts_sample{year=2008, month=2008-09} stats: [numFiles=1, numRows=1, totalSize=3, rawDataSize=2]\n",
      "Partition stackoverflow_.posts_sample{year=2008, month=2008-10} stats: [numFiles=1, numRows=1, totalSize=3, rawDataSize=2]\n",
      "Partition stackoverflow_.posts_sample{year=2008, month=2008-11} stats: [numFiles=1, numRows=1, totalSize=3, rawDataSize=2]\n",
      "Partition stackoverflow_.posts_sample{year=2008, month=2008-12} stats: [numFiles=1, numRows=1, totalSize=3, rawDataSize=2]\n",
      "Partition stackoverflow_.posts_sample{year=2009, month=2009-01} stats: [numFiles=1, numRows=1, totalSize=3, rawDataSize=2]\n",
      "Partition stackoverflow_.posts_sample{year=2009, month=2009-02} stats: [numFiles=1, numRows=1, totalSize=3, rawDataSize=2]\n",
      "Partition stackoverflow_.posts_sample{year=2009, month=2009-03} stats: [numFiles=1, numRows=1, totalSize=3, rawDataSize=2]\n",
      "Partition stackoverflow_.posts_sample{year=2009, month=2009-04} stats: [numFiles=1, numRows=1, totalSize=3, rawDataSize=2]\n",
      "Partition stackoverflow_.posts_sample{year=2009, month=2009-05} stats: [numFiles=1, numRows=1, totalSize=4, rawDataSize=3]\n",
      "Partition stackoverflow_.posts_sample{year=2009, month=2009-06} stats: [numFiles=1, numRows=1, totalSize=4, rawDataSize=3]\n",
      "Partition stackoverflow_.posts_sample{year=2009, month=2009-07} stats: [numFiles=1, numRows=1, totalSize=4, rawDataSize=3]\n",
      "Partition stackoverflow_.posts_sample{year=2009, month=2009-08} stats: [numFiles=1, numRows=1, totalSize=4, rawDataSize=3]\n",
      "Partition stackoverflow_.posts_sample{year=2009, month=2009-09} stats: [numFiles=1, numRows=1, totalSize=4, rawDataSize=3]\n",
      "Partition stackoverflow_.posts_sample{year=2009, month=2009-10} stats: [numFiles=1, numRows=1, totalSize=4, rawDataSize=3]\n",
      "Partition stackoverflow_.posts_sample{year=2009, month=2009-11} stats: [numFiles=1, numRows=1, totalSize=4, rawDataSize=3]\n",
      "Partition stackoverflow_.posts_sample{year=2009, month=2009-12} stats: [numFiles=1, numRows=1, totalSize=4, rawDataSize=3]\n",
      "Partition stackoverflow_.posts_sample{year=2010, month=2010-01} stats: [numFiles=1, numRows=1, totalSize=4, rawDataSize=3]\n",
      "Partition stackoverflow_.posts_sample{year=2010, month=2010-02} stats: [numFiles=1, numRows=1, totalSize=4, rawDataSize=3]\n",
      "Partition stackoverflow_.posts_sample{year=2010, month=2010-03} stats: [numFiles=1, numRows=1, totalSize=4, rawDataSize=3]\n",
      "Partition stackoverflow_.posts_sample{year=2010, month=2010-04} stats: [numFiles=1, numRows=1, totalSize=4, rawDataSize=3]\n",
      "Partition stackoverflow_.posts_sample{year=2010, month=2010-05} stats: [numFiles=1, numRows=1, totalSize=4, rawDataSize=3]\n",
      "Partition stackoverflow_.posts_sample{year=2010, month=2010-06} stats: [numFiles=1, numRows=1, totalSize=4, rawDataSize=3]\n",
      "Partition stackoverflow_.posts_sample{year=2010, month=2010-07} stats: [numFiles=1, numRows=1, totalSize=4, rawDataSize=3]\n",
      "Partition stackoverflow_.posts_sample{year=2010, month=2010-08} stats: [numFiles=1, numRows=1, totalSize=4, rawDataSize=3]\n"
     ]
    },
    {
     "name": "stdout",
     "output_type": "stream",
     "text": [
      "Partition stackoverflow_.posts_sample{year=2010, month=2010-09} stats: [numFiles=1, numRows=1, totalSize=4, rawDataSize=3]\n",
      "Partition stackoverflow_.posts_sample{year=2010, month=2010-10} stats: [numFiles=1, numRows=1, totalSize=4, rawDataSize=3]\n",
      "Partition stackoverflow_.posts_sample{year=2010, month=2010-11} stats: [numFiles=1, numRows=1, totalSize=4, rawDataSize=3]\n",
      "Partition stackoverflow_.posts_sample{year=2010, month=2010-12} stats: [numFiles=1, numRows=1, totalSize=4, rawDataSize=3]\n",
      "Partition stackoverflow_.posts_sample{year=2011, month=2011-01} stats: [numFiles=1, numRows=1, totalSize=4, rawDataSize=3]\n",
      "Partition stackoverflow_.posts_sample{year=2011, month=2011-02} stats: [numFiles=1, numRows=1, totalSize=4, rawDataSize=3]\n",
      "Partition stackoverflow_.posts_sample{year=2011, month=2011-03} stats: [numFiles=1, numRows=1, totalSize=4, rawDataSize=3]\n",
      "Partition stackoverflow_.posts_sample{year=2011, month=2011-04} stats: [numFiles=1, numRows=1, totalSize=4, rawDataSize=3]\n",
      "Partition stackoverflow_.posts_sample{year=2011, month=2011-05} stats: [numFiles=1, numRows=1, totalSize=4, rawDataSize=3]\n",
      "Partition stackoverflow_.posts_sample{year=2011, month=2011-06} stats: [numFiles=1, numRows=1, totalSize=4, rawDataSize=3]\n",
      "Partition stackoverflow_.posts_sample{year=2011, month=2011-07} stats: [numFiles=1, numRows=1, totalSize=4, rawDataSize=3]\n",
      "Partition stackoverflow_.posts_sample{year=2011, month=2011-08} stats: [numFiles=1, numRows=1, totalSize=4, rawDataSize=3]\n",
      "Partition stackoverflow_.posts_sample{year=2011, month=2011-09} stats: [numFiles=1, numRows=1, totalSize=4, rawDataSize=3]\n",
      "Partition stackoverflow_.posts_sample{year=2011, month=2011-10} stats: [numFiles=1, numRows=1, totalSize=4, rawDataSize=3]\n",
      "Partition stackoverflow_.posts_sample{year=2011, month=2011-11} stats: [numFiles=1, numRows=1, totalSize=4, rawDataSize=3]\n",
      "Partition stackoverflow_.posts_sample{year=2011, month=2011-12} stats: [numFiles=1, numRows=1, totalSize=4, rawDataSize=3]\n",
      "Partition stackoverflow_.posts_sample{year=2012, month=2012-01} stats: [numFiles=1, numRows=1, totalSize=4, rawDataSize=3]\n",
      "Partition stackoverflow_.posts_sample{year=2012, month=2012-02} stats: [numFiles=1, numRows=1, totalSize=4, rawDataSize=3]\n",
      "Partition stackoverflow_.posts_sample{year=2012, month=2012-03} stats: [numFiles=1, numRows=1, totalSize=4, rawDataSize=3]\n",
      "Partition stackoverflow_.posts_sample{year=2012, month=2012-04} stats: [numFiles=1, numRows=1, totalSize=4, rawDataSize=3]\n",
      "Partition stackoverflow_.posts_sample{year=2012, month=2012-05} stats: [numFiles=1, numRows=1, totalSize=4, rawDataSize=3]\n",
      "Partition stackoverflow_.posts_sample{year=2012, month=2012-06} stats: [numFiles=1, numRows=1, totalSize=4, rawDataSize=3]\n",
      "Partition stackoverflow_.posts_sample{year=2012, month=2012-07} stats: [numFiles=1, numRows=1, totalSize=4, rawDataSize=3]\n",
      "Partition stackoverflow_.posts_sample{year=2012, month=2012-08} stats: [numFiles=1, numRows=1, totalSize=4, rawDataSize=3]\n",
      "Partition stackoverflow_.posts_sample{year=2012, month=2012-09} stats: [numFiles=1, numRows=1, totalSize=4, rawDataSize=3]\n",
      "Partition stackoverflow_.posts_sample{year=2012, month=2012-10} stats: [numFiles=1, numRows=1, totalSize=4, rawDataSize=3]\n",
      "Partition stackoverflow_.posts_sample{year=2012, month=2012-11} stats: [numFiles=1, numRows=1, totalSize=4, rawDataSize=3]\n",
      "Partition stackoverflow_.posts_sample{year=2012, month=2012-12} stats: [numFiles=1, numRows=1, totalSize=4, rawDataSize=3]\n",
      "Partition stackoverflow_.posts_sample{year=2013, month=2013-01} stats: [numFiles=1, numRows=1, totalSize=4, rawDataSize=3]\n",
      "Partition stackoverflow_.posts_sample{year=2013, month=2013-02} stats: [numFiles=1, numRows=1, totalSize=4, rawDataSize=3]\n",
      "Partition stackoverflow_.posts_sample{year=2013, month=2013-03} stats: [numFiles=1, numRows=1, totalSize=4, rawDataSize=3]\n",
      "Partition stackoverflow_.posts_sample{year=2013, month=2013-04} stats: [numFiles=1, numRows=1, totalSize=4, rawDataSize=3]\n",
      "Partition stackoverflow_.posts_sample{year=2013, month=2013-05} stats: [numFiles=1, numRows=1, totalSize=4, rawDataSize=3]\n",
      "Partition stackoverflow_.posts_sample{year=2013, month=2013-06} stats: [numFiles=1, numRows=1, totalSize=4, rawDataSize=3]\n",
      "Partition stackoverflow_.posts_sample{year=2013, month=2013-07} stats: [numFiles=1, numRows=1, totalSize=4, rawDataSize=3]\n",
      "Partition stackoverflow_.posts_sample{year=2013, month=2013-08} stats: [numFiles=1, numRows=1, totalSize=4, rawDataSize=3]\n",
      "Partition stackoverflow_.posts_sample{year=2013, month=2013-09} stats: [numFiles=1, numRows=1, totalSize=4, rawDataSize=3]\n",
      "Partition stackoverflow_.posts_sample{year=2013, month=2013-10} stats: [numFiles=1, numRows=1, totalSize=4, rawDataSize=3]\n",
      "Partition stackoverflow_.posts_sample{year=2013, month=2013-11} stats: [numFiles=1, numRows=1, totalSize=4, rawDataSize=3]\n",
      "Partition stackoverflow_.posts_sample{year=2013, month=2013-12} stats: [numFiles=1, numRows=1, totalSize=4, rawDataSize=3]\n",
      "Partition stackoverflow_.posts_sample{year=2014, month=2014-01} stats: [numFiles=1, numRows=1, totalSize=4, rawDataSize=3]\n",
      "Partition stackoverflow_.posts_sample{year=2014, month=2014-02} stats: [numFiles=1, numRows=1, totalSize=4, rawDataSize=3]\n",
      "Partition stackoverflow_.posts_sample{year=2014, month=2014-03} stats: [numFiles=1, numRows=1, totalSize=4, rawDataSize=3]\n",
      "Partition stackoverflow_.posts_sample{year=2014, month=2014-04} stats: [numFiles=1, numRows=1, totalSize=4, rawDataSize=3]\n",
      "Partition stackoverflow_.posts_sample{year=2014, month=2014-05} stats: [numFiles=1, numRows=1, totalSize=4, rawDataSize=3]\n",
      "Partition stackoverflow_.posts_sample{year=2014, month=2014-06} stats: [numFiles=1, numRows=1, totalSize=4, rawDataSize=3]\n",
      "Partition stackoverflow_.posts_sample{year=2014, month=2014-07} stats: [numFiles=1, numRows=1, totalSize=4, rawDataSize=3]\n",
      "Partition stackoverflow_.posts_sample{year=2014, month=2014-08} stats: [numFiles=1, numRows=1, totalSize=4, rawDataSize=3]\n",
      "Partition stackoverflow_.posts_sample{year=2014, month=2014-09} stats: [numFiles=1, numRows=1, totalSize=4, rawDataSize=3]\n",
      "Partition stackoverflow_.posts_sample{year=2014, month=2014-10} stats: [numFiles=1, numRows=1, totalSize=4, rawDataSize=3]\n",
      "Partition stackoverflow_.posts_sample{year=2014, month=2014-11} stats: [numFiles=1, numRows=1, totalSize=4, rawDataSize=3]\n",
      "Partition stackoverflow_.posts_sample{year=2014, month=2014-12} stats: [numFiles=1, numRows=1, totalSize=4, rawDataSize=3]\n",
      "Partition stackoverflow_.posts_sample{year=2015, month=2015-01} stats: [numFiles=1, numRows=1, totalSize=4, rawDataSize=3]\n",
      "Partition stackoverflow_.posts_sample{year=2015, month=2015-02} stats: [numFiles=1, numRows=1, totalSize=4, rawDataSize=3]\n",
      "Partition stackoverflow_.posts_sample{year=2015, month=2015-03} stats: [numFiles=1, numRows=1, totalSize=4, rawDataSize=3]\n",
      "Partition stackoverflow_.posts_sample{year=2015, month=2015-04} stats: [numFiles=1, numRows=1, totalSize=4, rawDataSize=3]\n",
      "Partition stackoverflow_.posts_sample{year=2015, month=2015-05} stats: [numFiles=1, numRows=1, totalSize=4, rawDataSize=3]\n",
      "Partition stackoverflow_.posts_sample{year=2015, month=2015-06} stats: [numFiles=1, numRows=1, totalSize=4, rawDataSize=3]\n",
      "Partition stackoverflow_.posts_sample{year=2015, month=2015-07} stats: [numFiles=1, numRows=1, totalSize=4, rawDataSize=3]\n",
      "Partition stackoverflow_.posts_sample{year=2015, month=2015-08} stats: [numFiles=1, numRows=1, totalSize=4, rawDataSize=3]\n",
      "Partition stackoverflow_.posts_sample{year=2015, month=2015-09} stats: [numFiles=1, numRows=1, totalSize=4, rawDataSize=3]\n",
      "Partition stackoverflow_.posts_sample{year=2015, month=2015-10} stats: [numFiles=1, numRows=1, totalSize=4, rawDataSize=3]\n",
      "Partition stackoverflow_.posts_sample{year=2015, month=2015-11} stats: [numFiles=1, numRows=1, totalSize=4, rawDataSize=3]\n",
      "Partition stackoverflow_.posts_sample{year=2015, month=2015-12} stats: [numFiles=1, numRows=1, totalSize=4, rawDataSize=3]\n",
      "Partition stackoverflow_.posts_sample{year=2016, month=2016-01} stats: [numFiles=1, numRows=1, totalSize=4, rawDataSize=3]\n",
      "Partition stackoverflow_.posts_sample{year=2016, month=2016-02} stats: [numFiles=1, numRows=1, totalSize=4, rawDataSize=3]\n",
      "Partition stackoverflow_.posts_sample{year=2016, month=2016-03} stats: [numFiles=1, numRows=1, totalSize=4, rawDataSize=3]\n",
      "Partition stackoverflow_.posts_sample{year=2016, month=2016-04} stats: [numFiles=1, numRows=1, totalSize=4, rawDataSize=3]\n",
      "Partition stackoverflow_.posts_sample{year=2016, month=2016-05} stats: [numFiles=1, numRows=1, totalSize=4, rawDataSize=3]\n",
      "Partition stackoverflow_.posts_sample{year=2016, month=2016-06} stats: [numFiles=1, numRows=1, totalSize=4, rawDataSize=3]\n",
      "Partition stackoverflow_.posts_sample{year=2016, month=2016-07} stats: [numFiles=1, numRows=1, totalSize=4, rawDataSize=3]\n",
      "Partition stackoverflow_.posts_sample{year=2016, month=2016-08} stats: [numFiles=1, numRows=1, totalSize=4, rawDataSize=3]\n",
      "Partition stackoverflow_.posts_sample{year=2016, month=2016-09} stats: [numFiles=1, numRows=1, totalSize=4, rawDataSize=3]\n",
      "Partition stackoverflow_.posts_sample{year=2016, month=2016-10} stats: [numFiles=1, numRows=1, totalSize=4, rawDataSize=3]\n",
      "Partition stackoverflow_.posts_sample{year=2016, month=2016-11} stats: [numFiles=1, numRows=1, totalSize=4, rawDataSize=3]\n",
      "Partition stackoverflow_.posts_sample{year=2016, month=2016-12} stats: [numFiles=1, numRows=1, totalSize=4, rawDataSize=3]\n"
     ]
    },
    {
     "name": "stdout",
     "output_type": "stream",
     "text": [
      "MapReduce Jobs Launched: \n",
      "Stage-Stage-1: Map: 1  Reduce: 1   Cumulative CPU: 36.23 sec   HDFS Read: 60007532 HDFS Write: 7502 SUCCESS\n",
      "Total MapReduce CPU Time Spent: 36 seconds 230 msec\n",
      "OK\n",
      "Time taken: 85.205 seconds\n"
     ]
    }
   ],
   "source": [
    "! hive -f creation_db.hql\n",
    "! hive -f query.hql\n",
    "! hive -f query2.hql\n",
    "! hive -f query3.hql"
   ]
  },
  {
   "cell_type": "code",
   "execution_count": 77,
   "metadata": {},
   "outputs": [
    {
     "name": "stdout",
     "output_type": "stream",
     "text": [
      "\n",
      "Logging initialized using configuration in jar:file:/usr/local/apache-hive-1.1.0-bin/lib/hive-common-1.1.0.jar!/hive-log4j.properties\n",
      "OK\n",
      "Time taken: 1.099 seconds\n",
      "OK\n",
      "2008\t2008-10\t73\n",
      "Time taken: 2.8 seconds, Fetched: 1 row(s)\n"
     ]
    }
   ],
   "source": [
    "! hive -f query4.hql"
   ]
  },
  {
   "cell_type": "code",
   "execution_count": null,
   "metadata": {},
   "outputs": [],
   "source": []
  }
 ],
 "metadata": {
  "kernelspec": {
   "display_name": "Python 2",
   "language": "python",
   "name": "python2"
  },
  "language_info": {
   "codemirror_mode": {
    "name": "ipython",
    "version": 2
   },
   "file_extension": ".py",
   "mimetype": "text/x-python",
   "name": "python",
   "nbconvert_exporter": "python",
   "pygments_lexer": "ipython2",
   "version": "2.7.12"
  }
 },
 "nbformat": 4,
 "nbformat_minor": 2
}
