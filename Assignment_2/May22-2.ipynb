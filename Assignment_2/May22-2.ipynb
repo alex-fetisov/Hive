{
 "cells": [
  {
   "cell_type": "code",
   "execution_count": 12,
   "metadata": {},
   "outputs": [
    {
     "name": "stdout",
     "output_type": "stream",
     "text": [
      "Overwriting query.hql\n"
     ]
    }
   ],
   "source": [
    "%%writefile query.hql\n",
    "\n",
    "ADD JAR /opt/cloudera/parcels/CDH/lib/hive/lib/hive-contrib.jar;\n",
    "ADD JAR /opt/cloudera/parcels/CDH/lib/hive/lib/hive-serde.jar;\n",
    "\n",
    "USE stackoverflow_;\n",
    "\n",
    "WITH \n",
    "    tags_2009 as \n",
    "        (SELECT tag, year, post_type_id, count(*) as popularity_tag\n",
    "        FROM posts\n",
    "        LATERAL VIEW explode(tags) lateral_table AS tag\n",
    "        WHERE year = '2009'\n",
    "        GROUP BY tag, year, post_type_id),\n",
    "    tags_2016 as\n",
    "        (SELECT tag, year, post_type_id, count(*) as popularity_tag\n",
    "        FROM posts\n",
    "        LATERAL VIEW explode(tags) lateral_table AS tag\n",
    "        WHERE year = '2016'\n",
    "        GROUP BY tag, year, post_type_id),\n",
    "SELECT popularity_tag\n",
    "FROM tags_2009 JOIN tags_2016\n",
    "ON tags_2009.tag = tags_2016.tag;"
   ]
  },
  {
   "cell_type": "code",
   "execution_count": 13,
   "metadata": {},
   "outputs": [
    {
     "name": "stdout",
     "output_type": "stream",
     "text": [
      "\n",
      "Logging initialized using configuration in jar:file:/usr/local/apache-hive-1.1.0-bin/lib/hive-common-1.1.0.jar!/hive-log4j.properties\n",
      "Added [/opt/cloudera/parcels/CDH/lib/hive/lib/hive-contrib.jar] to class path\n",
      "Added resources: [/opt/cloudera/parcels/CDH/lib/hive/lib/hive-contrib.jar]\n",
      "Added [/opt/cloudera/parcels/CDH/lib/hive/lib/hive-serde.jar] to class path\n",
      "Added resources: [/opt/cloudera/parcels/CDH/lib/hive/lib/hive-serde.jar]\n",
      "OK\n",
      "Time taken: 1.049 seconds\n",
      "NoViableAltException(221@[])\n",
      "\tat org.apache.hadoop.hive.ql.parse.HiveParser_IdentifiersParser.identifier(HiveParser_IdentifiersParser.java:11322)\n",
      "\tat org.apache.hadoop.hive.ql.parse.HiveParser.identifier(HiveParser.java:44438)\n",
      "\tat org.apache.hadoop.hive.ql.parse.HiveParser.cteStatement(HiveParser.java:40389)\n",
      "\tat org.apache.hadoop.hive.ql.parse.HiveParser.withClause(HiveParser.java:40278)\n",
      "\tat org.apache.hadoop.hive.ql.parse.HiveParser.queryStatementExpression(HiveParser.java:40042)\n",
      "\tat org.apache.hadoop.hive.ql.parse.HiveParser.execStatement(HiveParser.java:1519)\n",
      "\tat org.apache.hadoop.hive.ql.parse.HiveParser.statement(HiveParser.java:1057)\n",
      "\tat org.apache.hadoop.hive.ql.parse.ParseDriver.parse(ParseDriver.java:199)\n",
      "\tat org.apache.hadoop.hive.ql.parse.ParseDriver.parse(ParseDriver.java:166)\n",
      "\tat org.apache.hadoop.hive.ql.Driver.compile(Driver.java:393)\n",
      "\tat org.apache.hadoop.hive.ql.Driver.compile(Driver.java:307)\n",
      "\tat org.apache.hadoop.hive.ql.Driver.compileInternal(Driver.java:1112)\n",
      "\tat org.apache.hadoop.hive.ql.Driver.runInternal(Driver.java:1160)\n",
      "\tat org.apache.hadoop.hive.ql.Driver.run(Driver.java:1049)\n",
      "\tat org.apache.hadoop.hive.ql.Driver.run(Driver.java:1039)\n",
      "\tat org.apache.hadoop.hive.cli.CliDriver.processLocalCmd(CliDriver.java:207)\n",
      "\tat org.apache.hadoop.hive.cli.CliDriver.processCmd(CliDriver.java:159)\n",
      "\tat org.apache.hadoop.hive.cli.CliDriver.processLine(CliDriver.java:370)\n",
      "\tat org.apache.hadoop.hive.cli.CliDriver.processLine(CliDriver.java:305)\n",
      "\tat org.apache.hadoop.hive.cli.CliDriver.processReader(CliDriver.java:403)\n",
      "\tat org.apache.hadoop.hive.cli.CliDriver.processFile(CliDriver.java:419)\n",
      "\tat org.apache.hadoop.hive.cli.CliDriver.executeDriver(CliDriver.java:708)\n",
      "\tat org.apache.hadoop.hive.cli.CliDriver.run(CliDriver.java:675)\n",
      "\tat org.apache.hadoop.hive.cli.CliDriver.main(CliDriver.java:615)\n",
      "\tat sun.reflect.NativeMethodAccessorImpl.invoke0(Native Method)\n",
      "\tat sun.reflect.NativeMethodAccessorImpl.invoke(NativeMethodAccessorImpl.java:62)\n",
      "\tat sun.reflect.DelegatingMethodAccessorImpl.invoke(DelegatingMethodAccessorImpl.java:43)\n",
      "\tat java.lang.reflect.Method.invoke(Method.java:498)\n",
      "\tat org.apache.hadoop.util.RunJar.run(RunJar.java:234)\n",
      "\tat org.apache.hadoop.util.RunJar.main(RunJar.java:148)\n",
      "FAILED: ParseException line 16:0 cannot recognize input near 'SELECT' 'popularity_tag' 'FROM' in statement\n"
     ]
    }
   ],
   "source": [
    "! hive -f query.hql"
   ]
  },
  {
   "cell_type": "code",
   "execution_count": null,
   "metadata": {},
   "outputs": [],
   "source": []
  }
 ],
 "metadata": {
  "kernelspec": {
   "display_name": "Python 2",
   "language": "python",
   "name": "python2"
  },
  "language_info": {
   "codemirror_mode": {
    "name": "ipython",
    "version": 2
   },
   "file_extension": ".py",
   "mimetype": "text/x-python",
   "name": "python",
   "nbconvert_exporter": "python",
   "pygments_lexer": "ipython2",
   "version": "2.7.12"
  }
 },
 "nbformat": 4,
 "nbformat_minor": 2
}
